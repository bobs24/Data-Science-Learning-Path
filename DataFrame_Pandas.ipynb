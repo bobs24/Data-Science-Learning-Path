{
  "nbformat": 4,
  "nbformat_minor": 0,
  "metadata": {
    "kernelspec": {
      "display_name": "Python 3",
      "language": "python",
      "name": "python3"
    },
    "language_info": {
      "codemirror_mode": {
        "name": "ipython",
        "version": 3
      },
      "file_extension": ".py",
      "mimetype": "text/x-python",
      "name": "python",
      "nbconvert_exporter": "python",
      "pygments_lexer": "ipython3",
      "version": "3.7.7"
    },
    "colab": {
      "name": "DataFrame Pandas.ipynb",
      "provenance": [],
      "include_colab_link": true
    }
  },
  "cells": [
    {
      "cell_type": "markdown",
      "metadata": {
        "id": "view-in-github",
        "colab_type": "text"
      },
      "source": [
        "<a href=\"https://colab.research.google.com/github/bobs24/Data-Science-Learning-Path/blob/Learning/DataFrame_Pandas.ipynb\" target=\"_parent\"><img src=\"https://colab.research.google.com/assets/colab-badge.svg\" alt=\"Open In Colab\"/></a>"
      ]
    },
    {
      "cell_type": "markdown",
      "metadata": {
        "id": "s6LccGLI5deK"
      },
      "source": [
        "<h2>Soal 1: Membuat Objek DataFrames</h2>\n",
        "\n",
        "- Buatlah objek dataframes dari objek dictionary, Bebas!"
      ]
    },
    {
      "cell_type": "code",
      "metadata": {
        "id": "V2jNr8n-5deM",
        "colab": {
          "base_uri": "https://localhost:8080/"
        },
        "outputId": "f414dfcd-6631-4050-a59c-43565e0a3bdb"
      },
      "source": [
        "# Membuat dataframes dari dictionary\n",
        "import pandas as pd\n",
        "Trial = pd.DataFrame({'Uangmu':[26,52],'Uangku':[100,500]})\n",
        "print(Trial)"
      ],
      "execution_count": null,
      "outputs": [
        {
          "output_type": "stream",
          "name": "stdout",
          "text": [
            "   Uangmu  Uangku\n",
            "0      26     100\n",
            "1      52     500\n"
          ]
        }
      ]
    },
    {
      "cell_type": "markdown",
      "metadata": {
        "id": "KWEFNf9B5deX"
      },
      "source": [
        "<h2>Soal 2: Membaca data dari file</h2>\n",
        "\n",
        "Download file bernama [diamonds.csv](https://drive.google.com/uc?export=download&id=1qQiM9utQUThTPq8jk8stPMh_y2zfqYOd), kemudian baca data tersebut dan assign ke dalam suatu variabel kemudian print."
      ]
    },
    {
      "cell_type": "code",
      "metadata": {
        "id": "Jy2KtDNs5deZ",
        "colab": {
          "base_uri": "https://localhost:8080/"
        },
        "outputId": "3db82074-8c0f-4847-d215-f5d936c46924"
      },
      "source": [
        "# Membaca data dan memasukannya kedalam suatu variabel\n",
        "df_from_csv=pd.read_csv('diamonds.csv')\n",
        "print(df_from_csv)"
      ],
      "execution_count": null,
      "outputs": [
        {
          "output_type": "stream",
          "name": "stdout",
          "text": [
            "       Unnamed: 0  carat        cut color  ... price     x     y     z\n",
            "0               1   0.23      Ideal     E  ...   326  3.95  3.98  2.43\n",
            "1               2   0.21    Premium     E  ...   326  3.89  3.84  2.31\n",
            "2               3   0.23       Good     E  ...   327  4.05  4.07  2.31\n",
            "3               4   0.29    Premium     I  ...   334  4.20  4.23  2.63\n",
            "4               5   0.31       Good     J  ...   335  4.34  4.35  2.75\n",
            "...           ...    ...        ...   ...  ...   ...   ...   ...   ...\n",
            "53935       53936   0.72      Ideal     D  ...  2757  5.75  5.76  3.50\n",
            "53936       53937   0.72       Good     D  ...  2757  5.69  5.75  3.61\n",
            "53937       53938   0.70  Very Good     D  ...  2757  5.66  5.68  3.56\n",
            "53938       53939   0.86    Premium     H  ...  2757  6.15  6.12  3.74\n",
            "53939       53940   0.75      Ideal     D  ...  2757  5.83  5.87  3.64\n",
            "\n",
            "[53940 rows x 11 columns]\n"
          ]
        }
      ]
    },
    {
      "cell_type": "markdown",
      "metadata": {
        "id": "1o9m_N295del"
      },
      "source": [
        "Expected Result:\n",
        "\n",
        "![alt text](https://drive.google.com/uc?id=1BvgM5mJEVfj0fllrjkBfQwn0QIFkry_t)"
      ]
    },
    {
      "cell_type": "markdown",
      "metadata": {
        "id": "LtLWF_Ot5deo"
      },
      "source": [
        "<h2>Soal 3: DataFrame vs Series</h2>\n",
        "\n",
        "- Apa perbedaan Series dengan list dan dictionary\n",
        "- Apa perbedaan dataframe dan series\n",
        "- Buatlah suatu data series"
      ]
    },
    {
      "cell_type": "markdown",
      "metadata": {
        "id": "6F2EDcPp5der"
      },
      "source": [
        "Jawab:  \n",
        "Series-List = dapat dilakukan metode slicing dan mengakses object series\n",
        "series-dictionary = index yang ada di series berfungsi seperti key di dictionary\n",
        "\n",
        "dataframe terdiri dari 2 index (baris-kolom) jumlah index harus sama dengan jumlah data, antar kolom bisa punya data yang berbeda tapi 1 kolom hanya 1 jenis data.\n",
        "series terdiri dari 1 index (string,int,bool,etc)"
      ]
    },
    {
      "cell_type": "code",
      "metadata": {
        "id": "RBPrIKlZ5dev",
        "colab": {
          "base_uri": "https://localhost:8080/"
        },
        "outputId": "6c5418ab-b4fb-439b-c8b3-a1f2b3ac0c47"
      },
      "source": [
        "# code here\n",
        "import pandas as pd\n",
        "x = pd.Series([1,2,3,4,5])\n",
        "print(x)"
      ],
      "execution_count": null,
      "outputs": [
        {
          "output_type": "stream",
          "name": "stdout",
          "text": [
            "0    1\n",
            "1    2\n",
            "2    3\n",
            "3    4\n",
            "4    5\n",
            "dtype: int64\n"
          ]
        }
      ]
    },
    {
      "cell_type": "markdown",
      "metadata": {
        "id": "JNuHgN945de8"
      },
      "source": [
        "<h2>Soal 4: Pemeriksaan Data Sederhana</h2>\n",
        "\n",
        "Di soal no 2 kamu telah membaca data tentang diamonds. pada soal ini cobalah suatu metode dari pandas untuk mengetahui beberapa data pertama dan beberapa data terakhir. kemudian sebutkan nilai dari:\n",
        "- baris pertama dari column price\n",
        "- baris terakhir dari column color\n",
        "\n",
        "tunjukan cara kalian menemukan nilai tersebut di block di bawah ini."
      ]
    },
    {
      "cell_type": "code",
      "metadata": {
        "id": "MRvNarxL5de-",
        "colab": {
          "base_uri": "https://localhost:8080/"
        },
        "outputId": "5be4c287-4220-4d96-ddda-574d2f1e30bf"
      },
      "source": [
        "# code here\n",
        "df_from_csv=pd.read_csv('diamonds.csv')\n",
        "print(df_from_csv['price'][0])\n",
        "print(df_from_csv['color'][53939])"
      ],
      "execution_count": null,
      "outputs": [
        {
          "output_type": "stream",
          "name": "stdout",
          "text": [
            "326\n",
            "D\n"
          ]
        }
      ]
    },
    {
      "cell_type": "markdown",
      "metadata": {
        "id": "q-u9QIjJ5dfK"
      },
      "source": [
        "<h2>Soal 5: Deskriptif Statistik</h2>\n",
        "\n",
        "Jelaskan apa itu deskriptis statistik!"
      ]
    },
    {
      "cell_type": "markdown",
      "metadata": {
        "id": "iKTeB5Gd5dfM"
      },
      "source": [
        "Jawab: metode pengumpulan dan visualisasi/penyajian data (menggunakan tabel,report, diagram, grafik), bisa berupa numerik."
      ]
    },
    {
      "cell_type": "markdown",
      "metadata": {
        "id": "5SKD0rNu5dfP"
      },
      "source": [
        "<h2>Soal 6: Practice Deskriptif Statistik</h2>\n",
        "\n",
        "- Gunakan suatu metode dari pandas untuk mengetahui deskriptif statistik dari suatu data\n",
        "- Berapa nilai rata-rata dari column price\n",
        "- Berapa nilai standar deviasi dari column depth\n",
        "- Berapa nilai maximum dari column carat"
      ]
    },
    {
      "cell_type": "code",
      "metadata": {
        "id": "giNtJG9Y5dfS",
        "colab": {
          "base_uri": "https://localhost:8080/"
        },
        "outputId": "3d2fe03a-8119-459f-be38-7f4ccc552be3"
      },
      "source": [
        "# code here\n",
        "import pandas as pd\n",
        "df=pd.read_csv('diamonds.csv')\n",
        "print(df['price'].mean())\n",
        "print(df['depth'].std())\n",
        "print(df['carat'].max())"
      ],
      "execution_count": null,
      "outputs": [
        {
          "output_type": "stream",
          "name": "stdout",
          "text": [
            "3932.799721913237\n",
            "1.4326213188337733\n",
            "5.01\n"
          ]
        }
      ]
    },
    {
      "cell_type": "markdown",
      "metadata": {
        "id": "M6miZVtG5dfd"
      },
      "source": [
        "Jawab:\n",
        "rata-rata price = 3932.79\n",
        "std dev depth = 1.43\n",
        "nilai maksimal carat = 5.01"
      ]
    }
  ]
}