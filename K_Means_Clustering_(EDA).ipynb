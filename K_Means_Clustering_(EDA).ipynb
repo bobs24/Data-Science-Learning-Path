{
  "nbformat": 4,
  "nbformat_minor": 0,
  "metadata": {
    "colab": {
      "name": "K-Means Clustering (EDA).ipynb",
      "provenance": [],
      "collapsed_sections": [],
      "include_colab_link": true
    },
    "kernelspec": {
      "name": "python3",
      "display_name": "Python 3"
    },
    "language_info": {
      "name": "python"
    }
  },
  "cells": [
    {
      "cell_type": "markdown",
      "metadata": {
        "id": "view-in-github",
        "colab_type": "text"
      },
      "source": [
        "<a href=\"https://colab.research.google.com/github/bobs24/Data-Science-Learning-Path/blob/Learning/K_Means_Clustering_(EDA).ipynb\" target=\"_parent\"><img src=\"https://colab.research.google.com/assets/colab-badge.svg\" alt=\"Open In Colab\"/></a>"
      ]
    },
    {
      "cell_type": "markdown",
      "metadata": {
        "id": "EqmubOp2whk3"
      },
      "source": [
        "# Soal 1. Pemahaman k-means clustering\n",
        "\n",
        "Jelaskan bagaimana cara kerja k-means clustering!"
      ]
    },
    {
      "cell_type": "markdown",
      "metadata": {
        "id": "gf8y3llqw369"
      },
      "source": [
        "Jawab disini:\n",
        "K-Means clustering dilakukan untuk unsupervised machine learning, dan merupakan salah satu cara pengelompokan data dengan cara partisi \n"
      ]
    },
    {
      "cell_type": "markdown",
      "metadata": {
        "id": "NoX-A3wElHoq"
      },
      "source": [
        "Download disini [pelanggan.csv](https://drive.google.com/uc?export=download&id=1jX_rLPfcCfzEEgy9xaoALmpqfU2s5TTB)"
      ]
    },
    {
      "cell_type": "code",
      "metadata": {
        "colab": {
          "base_uri": "https://localhost:8080/"
        },
        "id": "rqRBoUBsw7S0",
        "outputId": "c5bc6bba-d632-4b52-bc65-64df2e0b765b"
      },
      "source": [
        "import pandas as pd\n",
        "import numpy as np\n",
        "import matplotlib.pyplot as plt\n",
        "import seaborn as sns\n",
        "from sklearn.preprocessing import StandardScaler\n",
        "from sklearn.cluster import KMeans \n",
        "from sklearn.metrics import silhouette_score # rentang 0-1 (0 = klustering tidak bisa membedakan, 1 = klustering sangat bisa membedakan)\n",
        "\n",
        "df = pd.read_csv('pelanggan_supermarket.csv')\n",
        "df.head()\n",
        "df1=df['Umur']\n",
        "df2=df['Skor Belanja (1-100)']\n",
        "pd.unique(df2)"
      ],
      "execution_count": null,
      "outputs": [
        {
          "output_type": "execute_result",
          "data": {
            "text/plain": [
              "array([ 39.,  81.,   6.,  77.,  40.,  76.,  94.,   3.,  72.,  14.,  99.,\n",
              "        15.,  13.,  79., 150.,  66.,  29.,  98.,  35.,  73.,   5.,  82.,\n",
              "        32.,  61.,  31.,  87.,   4.,  92.,  17.,  26.,  75.,  36.,  28.,\n",
              "        65.,  55.,  47.,  42.,  nan,  52.,  60.,  54.,  45.,  41.,  50.,\n",
              "        46.,  51.,  56.,  59.,  48.,  49.,  53.,  44.,  57.,  58.,  43.,\n",
              "        91.,  95.,  11.,   9.,  34.,  71.,  88.,   7.,  10.,  93.,  12.,\n",
              "        97.,  74.,  22.,  90.,  20.,  16.,  89.,  78.,  83.,  27.,  63.,\n",
              "        86.,  24.,  68.,  85.,  23.,  69.,   8.,  18.])"
            ]
          },
          "metadata": {},
          "execution_count": 1
        }
      ]
    },
    {
      "cell_type": "markdown",
      "metadata": {
        "id": "AByM6XoYMkTy"
      },
      "source": [
        "# Soal 2. Clustering data menggunakan k-means clustering\n",
        "\n",
        "Dalam soal ini, kalian diminta untuk melakukan clustering antara data Umur dan Skor Belanja(1-100). Namun, clustering tidak bisa dilakukan karena data memiliki outlier dan missing value. Maka, lakukanlah tahapan-tahapan berikut:\n",
        "\n",
        "*   Handling missing value dengan menggunakan method ='ffill'\n",
        "*   Handling outlier menggunakan metode Interquartile range\n",
        "*   Lakukan rescaling data menggunakan StandardScaler\n",
        "*   Lakukan clustering menggunakan kmeans clustering dengan k =2, dan visualisasikan.. \n",
        "*   Gunakan Elbow method untuk menemukan jumlah k kluster yang tepat\n",
        "*   Gunakan k=3 (rekomendasi methode Elbow) lalu visualisasikan\n",
        "*   Hitung silhoutte Coefficient dari ke dua hasil prediksi klustering tersebut\n",
        "\n",
        "\n",
        "\n",
        "\n",
        "\n",
        "\n",
        "\n",
        "\n"
      ]
    },
    {
      "cell_type": "code",
      "metadata": {
        "id": "l2u2IRm4Ou_9",
        "colab": {
          "base_uri": "https://localhost:8080/",
          "height": 423
        },
        "outputId": "0618d41d-29e8-4750-8126-38981dd2ebe2"
      },
      "source": [
        "#code here\n",
        "df3=df.fillna(method='ffill')\n",
        "df3\n",
        "#pd.unique(df3['Umur']) #mengecek NaN"
      ],
      "execution_count": null,
      "outputs": [
        {
          "output_type": "execute_result",
          "data": {
            "text/html": [
              "\n",
              "  <div id=\"df-b8cfedef-9be5-44b8-ad70-6c5edaa61475\">\n",
              "    <div class=\"colab-df-container\">\n",
              "      <div>\n",
              "<style scoped>\n",
              "    .dataframe tbody tr th:only-of-type {\n",
              "        vertical-align: middle;\n",
              "    }\n",
              "\n",
              "    .dataframe tbody tr th {\n",
              "        vertical-align: top;\n",
              "    }\n",
              "\n",
              "    .dataframe thead th {\n",
              "        text-align: right;\n",
              "    }\n",
              "</style>\n",
              "<table border=\"1\" class=\"dataframe\">\n",
              "  <thead>\n",
              "    <tr style=\"text-align: right;\">\n",
              "      <th></th>\n",
              "      <th>ID_pelanggan</th>\n",
              "      <th>Jenis Kelamin</th>\n",
              "      <th>Umur</th>\n",
              "      <th>Pendapatan pertahun (juta)</th>\n",
              "      <th>Skor Belanja (1-100)</th>\n",
              "    </tr>\n",
              "  </thead>\n",
              "  <tbody>\n",
              "    <tr>\n",
              "      <th>0</th>\n",
              "      <td>1</td>\n",
              "      <td>Laki-laki</td>\n",
              "      <td>19.0</td>\n",
              "      <td>15</td>\n",
              "      <td>39.0</td>\n",
              "    </tr>\n",
              "    <tr>\n",
              "      <th>1</th>\n",
              "      <td>2</td>\n",
              "      <td>Laki-laki</td>\n",
              "      <td>21.0</td>\n",
              "      <td>15</td>\n",
              "      <td>81.0</td>\n",
              "    </tr>\n",
              "    <tr>\n",
              "      <th>2</th>\n",
              "      <td>3</td>\n",
              "      <td>Perempuan</td>\n",
              "      <td>20.0</td>\n",
              "      <td>16</td>\n",
              "      <td>6.0</td>\n",
              "    </tr>\n",
              "    <tr>\n",
              "      <th>3</th>\n",
              "      <td>4</td>\n",
              "      <td>Perempuan</td>\n",
              "      <td>23.0</td>\n",
              "      <td>16</td>\n",
              "      <td>77.0</td>\n",
              "    </tr>\n",
              "    <tr>\n",
              "      <th>4</th>\n",
              "      <td>5</td>\n",
              "      <td>Perempuan</td>\n",
              "      <td>31.0</td>\n",
              "      <td>17</td>\n",
              "      <td>40.0</td>\n",
              "    </tr>\n",
              "    <tr>\n",
              "      <th>...</th>\n",
              "      <td>...</td>\n",
              "      <td>...</td>\n",
              "      <td>...</td>\n",
              "      <td>...</td>\n",
              "      <td>...</td>\n",
              "    </tr>\n",
              "    <tr>\n",
              "      <th>245</th>\n",
              "      <td>246</td>\n",
              "      <td>Laki-laki</td>\n",
              "      <td>59.0</td>\n",
              "      <td>93</td>\n",
              "      <td>14.0</td>\n",
              "    </tr>\n",
              "    <tr>\n",
              "      <th>246</th>\n",
              "      <td>247</td>\n",
              "      <td>Laki-laki</td>\n",
              "      <td>35.0</td>\n",
              "      <td>93</td>\n",
              "      <td>90.0</td>\n",
              "    </tr>\n",
              "    <tr>\n",
              "      <th>247</th>\n",
              "      <td>248</td>\n",
              "      <td>Perempuan</td>\n",
              "      <td>37.0</td>\n",
              "      <td>97</td>\n",
              "      <td>32.0</td>\n",
              "    </tr>\n",
              "    <tr>\n",
              "      <th>248</th>\n",
              "      <td>249</td>\n",
              "      <td>Perempuan</td>\n",
              "      <td>32.0</td>\n",
              "      <td>97</td>\n",
              "      <td>86.0</td>\n",
              "    </tr>\n",
              "    <tr>\n",
              "      <th>249</th>\n",
              "      <td>250</td>\n",
              "      <td>Laki-laki</td>\n",
              "      <td>120.0</td>\n",
              "      <td>98</td>\n",
              "      <td>15.0</td>\n",
              "    </tr>\n",
              "  </tbody>\n",
              "</table>\n",
              "<p>250 rows × 5 columns</p>\n",
              "</div>\n",
              "      <button class=\"colab-df-convert\" onclick=\"convertToInteractive('df-b8cfedef-9be5-44b8-ad70-6c5edaa61475')\"\n",
              "              title=\"Convert this dataframe to an interactive table.\"\n",
              "              style=\"display:none;\">\n",
              "        \n",
              "  <svg xmlns=\"http://www.w3.org/2000/svg\" height=\"24px\"viewBox=\"0 0 24 24\"\n",
              "       width=\"24px\">\n",
              "    <path d=\"M0 0h24v24H0V0z\" fill=\"none\"/>\n",
              "    <path d=\"M18.56 5.44l.94 2.06.94-2.06 2.06-.94-2.06-.94-.94-2.06-.94 2.06-2.06.94zm-11 1L8.5 8.5l.94-2.06 2.06-.94-2.06-.94L8.5 2.5l-.94 2.06-2.06.94zm10 10l.94 2.06.94-2.06 2.06-.94-2.06-.94-.94-2.06-.94 2.06-2.06.94z\"/><path d=\"M17.41 7.96l-1.37-1.37c-.4-.4-.92-.59-1.43-.59-.52 0-1.04.2-1.43.59L10.3 9.45l-7.72 7.72c-.78.78-.78 2.05 0 2.83L4 21.41c.39.39.9.59 1.41.59.51 0 1.02-.2 1.41-.59l7.78-7.78 2.81-2.81c.8-.78.8-2.07 0-2.86zM5.41 20L4 18.59l7.72-7.72 1.47 1.35L5.41 20z\"/>\n",
              "  </svg>\n",
              "      </button>\n",
              "      \n",
              "  <style>\n",
              "    .colab-df-container {\n",
              "      display:flex;\n",
              "      flex-wrap:wrap;\n",
              "      gap: 12px;\n",
              "    }\n",
              "\n",
              "    .colab-df-convert {\n",
              "      background-color: #E8F0FE;\n",
              "      border: none;\n",
              "      border-radius: 50%;\n",
              "      cursor: pointer;\n",
              "      display: none;\n",
              "      fill: #1967D2;\n",
              "      height: 32px;\n",
              "      padding: 0 0 0 0;\n",
              "      width: 32px;\n",
              "    }\n",
              "\n",
              "    .colab-df-convert:hover {\n",
              "      background-color: #E2EBFA;\n",
              "      box-shadow: 0px 1px 2px rgba(60, 64, 67, 0.3), 0px 1px 3px 1px rgba(60, 64, 67, 0.15);\n",
              "      fill: #174EA6;\n",
              "    }\n",
              "\n",
              "    [theme=dark] .colab-df-convert {\n",
              "      background-color: #3B4455;\n",
              "      fill: #D2E3FC;\n",
              "    }\n",
              "\n",
              "    [theme=dark] .colab-df-convert:hover {\n",
              "      background-color: #434B5C;\n",
              "      box-shadow: 0px 1px 3px 1px rgba(0, 0, 0, 0.15);\n",
              "      filter: drop-shadow(0px 1px 2px rgba(0, 0, 0, 0.3));\n",
              "      fill: #FFFFFF;\n",
              "    }\n",
              "  </style>\n",
              "\n",
              "      <script>\n",
              "        const buttonEl =\n",
              "          document.querySelector('#df-b8cfedef-9be5-44b8-ad70-6c5edaa61475 button.colab-df-convert');\n",
              "        buttonEl.style.display =\n",
              "          google.colab.kernel.accessAllowed ? 'block' : 'none';\n",
              "\n",
              "        async function convertToInteractive(key) {\n",
              "          const element = document.querySelector('#df-b8cfedef-9be5-44b8-ad70-6c5edaa61475');\n",
              "          const dataTable =\n",
              "            await google.colab.kernel.invokeFunction('convertToInteractive',\n",
              "                                                     [key], {});\n",
              "          if (!dataTable) return;\n",
              "\n",
              "          const docLinkHtml = 'Like what you see? Visit the ' +\n",
              "            '<a target=\"_blank\" href=https://colab.research.google.com/notebooks/data_table.ipynb>data table notebook</a>'\n",
              "            + ' to learn more about interactive tables.';\n",
              "          element.innerHTML = '';\n",
              "          dataTable['output_type'] = 'display_data';\n",
              "          await google.colab.output.renderOutput(dataTable, element);\n",
              "          const docLink = document.createElement('div');\n",
              "          docLink.innerHTML = docLinkHtml;\n",
              "          element.appendChild(docLink);\n",
              "        }\n",
              "      </script>\n",
              "    </div>\n",
              "  </div>\n",
              "  "
            ],
            "text/plain": [
              "     ID_pelanggan  ... Skor Belanja (1-100)\n",
              "0               1  ...                 39.0\n",
              "1               2  ...                 81.0\n",
              "2               3  ...                  6.0\n",
              "3               4  ...                 77.0\n",
              "4               5  ...                 40.0\n",
              "..            ...  ...                  ...\n",
              "245           246  ...                 14.0\n",
              "246           247  ...                 90.0\n",
              "247           248  ...                 32.0\n",
              "248           249  ...                 86.0\n",
              "249           250  ...                 15.0\n",
              "\n",
              "[250 rows x 5 columns]"
            ]
          },
          "metadata": {},
          "execution_count": 2
        }
      ]
    },
    {
      "cell_type": "code",
      "source": [
        "def remove_outliers(df3):\n",
        "  Q1 = df.quantile(0.25)\n",
        "  Q3 = df.quantile(0.75)\n",
        "  IQR = Q3 - Q1 \n",
        "  df_final =df[~((df<(Q1 - 1.5*IQR)) | (df>(Q3 + 1.5*IQR)) )]\n",
        "  return df_final\n",
        "\n",
        "df_outliers_removed = remove_outliers(df3[['Umur','Skor Belanja (1-100)']])\n",
        "df_outliers_removed.dropna(axis=0,inplace=True)\n",
        "df10 = df_outliers_removed[['Umur','Skor Belanja (1-100)']]\n",
        "\n",
        "#feature scaling\n",
        "sc = StandardScaler()\n",
        "df_outliers_std = sc.fit_transform(df10.astype(float))\n",
        "\n",
        "#K-Means Clustering\n",
        "kmeans1 = KMeans(n_clusters=2, random_state = 42).fit(df_outliers_std)\n",
        "labels1 = kmeans1.labels_\n",
        "\n",
        "new_df = pd.DataFrame(data = df_outliers_std,columns = ['Umur','Skor Belanja (1-100)'])\n",
        "new_df['labels_kmeans']=labels1\n",
        "\n",
        "plt.figure(figsize=(19,10))\n",
        "\n",
        "plt.scatter(new_df.Umur[new_df.labels_kmeans == 0],new_df['Skor Belanja (1-100)'][new_df.labels_kmeans == 0], c ='red', s=100, edgecolor ='green', linestyle='-' )\n",
        "plt.scatter(new_df.Umur[new_df.labels_kmeans == 1],new_df['Skor Belanja (1-100)'][new_df.labels_kmeans == 1], c ='blue', s=100, edgecolor ='green', linestyle='-' )\n",
        "\n",
        "centers=kmeans1.cluster_centers_\n",
        "plt.scatter(centers[:,0],centers[:,1],c='black',s=500)\n",
        "plt.xlabel('Umur')\n",
        "plt.ylabel('Skor Belanja (1-100)')\n",
        "plt.title('n_cluster = 2',size = 20)\n",
        "plt.show()\n"
      ],
      "metadata": {
        "colab": {
          "base_uri": "https://localhost:8080/",
          "height": 627
        },
        "id": "IpMyv8QkPPEt",
        "outputId": "785c7564-5b60-4a06-cbc1-5c5d21edc7a7"
      },
      "execution_count": null,
      "outputs": [
        {
          "output_type": "display_data",
          "data": {
            "image/png": "[encoded data removed]",
            "text/plain": [
              "<Figure size 1368x720 with 1 Axes>"
            ]
          },
          "metadata": {
            "needs_background": "light"
          }
        }
      ]
    },
    {
      "cell_type": "code",
      "source": [
        "wcss = []\n",
        "for i in range (1,11):\n",
        "  kmeans = KMeans(n_clusters = i, init=\"k-means++\",random_state=42)\n",
        "  kmeans.fit(new_df)\n",
        "  wcss.append(kmeans.inertia_)\n",
        "plt.figure(figsize=(8,4))\n",
        "plt.plot(range(1,11),wcss)\n",
        "plt.xlabel('Number of cluster')\n",
        "plt.ylabel('WCSS')\n",
        "plt.title('The Elbow Method',size = 15)\n",
        "plt.show()"
      ],
      "metadata": {
        "colab": {
          "base_uri": "https://localhost:8080/",
          "height": 297
        },
        "id": "2RH47UyAhmyQ",
        "outputId": "494c3bae-b567-49a5-e7a7-7ae7a6b0e1e5"
      },
      "execution_count": null,
      "outputs": [
        {
          "output_type": "display_data",
          "data": {
            "image/png": "[encoded data removed]",
            "text/plain": [
              "<Figure size 576x288 with 1 Axes>"
            ]
          },
          "metadata": {
            "needs_background": "light"
          }
        }
      ]
    },
    {
      "cell_type": "code",
      "source": [
        "#feature scaling\n",
        "sc = StandardScaler()\n",
        "df_outliers_std = sc.fit_transform(df10.astype(float))\n",
        "\n",
        "#K-Means Clustering\n",
        "kmeans2 = KMeans(n_clusters=3, random_state = 42).fit(df_outliers_std)\n",
        "labels2 = kmeans2.labels_\n",
        "\n",
        "new_df2 = pd.DataFrame(data = df_outliers_std,columns = ['Umur','Skor Belanja (1-100)'])\n",
        "new_df2['labels_kmeans']=labels2\n",
        "\n",
        "plt.figure(figsize=(19,10)) #besarin figure\n",
        "\n",
        "plt.scatter(new_df2.Umur[new_df2.labels_kmeans == 0],new_df2['Skor Belanja (1-100)'][new_df2.labels_kmeans == 0], c ='green', s=100, edgecolor ='green', linestyle='-')\n",
        "plt.scatter(new_df2.Umur[new_df2.labels_kmeans == 1],new_df2['Skor Belanja (1-100)'][new_df2.labels_kmeans == 1], c ='blue', s=100, edgecolor ='green', linestyle='-')\n",
        "plt.scatter(new_df2.Umur[new_df2.labels_kmeans == 2],new_df2['Skor Belanja (1-100)'][new_df2.labels_kmeans == 2], c ='red', s=100, edgecolor ='green', linestyle='-')\n",
        "\n",
        "centers=kmeans2.cluster_centers_\n",
        "plt.scatter(centers[:,0],centers[:,1],c='black',s=500)\n",
        "plt.xlabel('Umur')\n",
        "plt.ylabel('Skor Belanja (1-100)')\n",
        "plt.title('n_cluster = 3',size = 20)\n",
        "plt.show()"
      ],
      "metadata": {
        "colab": {
          "base_uri": "https://localhost:8080/",
          "height": 627
        },
        "id": "RHEFNQEYjLHD",
        "outputId": "0047d157-dc7b-4db4-cd19-b23ea05708c1"
      },
      "execution_count": null,
      "outputs": [
        {
          "output_type": "display_data",
          "data": {
            "image/png": "[encoded data removed]",
            "text/plain": [
              "<Figure size 1368x720 with 1 Axes>"
            ]
          },
          "metadata": {
            "needs_background": "light"
          }
        }
      ]
    },
    {
      "cell_type": "code",
      "source": [
        "df_outliers_std"
      ],
      "metadata": {
        "id": "pln1qqL-m4a2",
        "outputId": "63159ca7-6291-4ef3-c33f-c92e93b3122c",
        "colab": {
          "base_uri": "https://localhost:8080/"
        }
      },
      "execution_count": null,
      "outputs": [
        {
          "output_type": "execute_result",
          "data": {
            "text/plain": [
              "array([[-1.45737424e+00, -3.95455898e-01],\n",
              "       [-1.30822134e+00,  1.12141945e+00],\n",
              "       [-1.38279779e+00, -1.58728653e+00],\n",
              "       [-1.15906844e+00,  9.76955131e-01],\n",
              "       [-5.62456840e-01, -3.59339818e-01],\n",
              "       [-1.23364489e+00,  9.40839051e-01],\n",
              "       [-2.64151040e-01, -1.58728653e+00],\n",
              "       [-1.15906844e+00,  1.59092849e+00],\n",
              "       [ 1.89856601e+00, -1.69563477e+00],\n",
              "       [-6.37033290e-01,  7.96374733e-01],\n",
              "       [ 2.12229536e+00, -1.29835789e+00],\n",
              "       [-2.64151040e-01,  1.77150888e+00],\n",
              "       [ 1.45110731e+00, -1.26224181e+00],\n",
              "       [-1.08449199e+00,  9.76955131e-01],\n",
              "       [-1.14998139e-01, -1.33447397e+00],\n",
              "       [-1.23364489e+00,  1.04918729e+00],\n",
              "       [-1.38279779e+00,  5.79678254e-01],\n",
              "       [ 1.00364861e+00, -7.56616695e-01],\n",
              "       [-2.64151040e-01,  1.73539281e+00],\n",
              "       [-2.64151040e-01, -5.39920217e-01],\n",
              "       [-1.00991554e+00,  8.32490812e-01],\n",
              "       [ 5.56189911e-01, -1.62340261e+00],\n",
              "       [-5.62456840e-01,  8.32490812e-01],\n",
              "       [ 1.15280151e+00, -1.29835789e+00],\n",
              "       [-7.11609740e-01,  1.15753553e+00],\n",
              "       [ 4.81613461e-01, -6.48268456e-01],\n",
              "       [-2.64151040e-01,  3.99097856e-01],\n",
              "       [ 1.08731211e-01, -6.84384536e-01],\n",
              "       [-1.15906844e+00,  1.33811593e+00],\n",
              "       [ 1.60026021e+00, -1.65951869e+00],\n",
              "       [-1.30822134e+00,  8.32490812e-01],\n",
              "       [ 1.07822506e+00, -1.65951869e+00],\n",
              "       [-1.53195069e+00,  1.51869633e+00],\n",
              "       [ 7.79919261e-01, -1.29835789e+00],\n",
              "       [-1.30822134e+00,  1.12141945e+00],\n",
              "       [ 2.57884111e-01, -1.19000965e+00],\n",
              "       [-6.37033290e-01,  8.32490812e-01],\n",
              "       [-1.89574589e-01, -8.64964934e-01],\n",
              "       [-1.38279779e+00,  9.04722972e-01],\n",
              "       [ 1.97314246e+00, -5.39920217e-01],\n",
              "       [-1.08449199e+00,  1.51869633e+00],\n",
              "       [ 7.05342811e-01, -5.03804137e-01],\n",
              "       [-5.62456840e-01,  3.99097856e-01],\n",
              "       [ 7.79919261e-01, -7.92732775e-01],\n",
              "       [-1.08449199e+00,  5.43562175e-01],\n",
              "       [ 8.54495712e-01,  1.82401377e-01],\n",
              "       [-8.60762640e-01, -1.06527260e-01],\n",
              "       [-7.11609740e-01, -2.87107659e-01],\n",
              "       [ 7.79919261e-01,  7.40531382e-02],\n",
              "       [-4.13303940e-01,  3.62981776e-01],\n",
              "       [-5.62456840e-01,  1.46285298e-01],\n",
              "       [ 1.52568376e+00,  3.62981776e-01],\n",
              "       [ 8.54495712e-01, -1.78759420e-01],\n",
              "       [ 6.30766361e-01, -3.23223739e-01],\n",
              "       [ 9.29072162e-01,  1.82097881e-03],\n",
              "       [ 2.27144826e+00, -1.42643340e-01],\n",
              "       [-8.60762640e-01,  3.79370585e-02],\n",
              "       [ 1.07822506e+00, -1.42643340e-01],\n",
              "       [ 2.34602471e+00,  2.18517457e-01],\n",
              "       [ 2.12229536e+00,  7.40531382e-02],\n",
              "       [ 1.15280151e+00,  3.26865696e-01],\n",
              "       [ 1.82398956e+00,  3.79370585e-02],\n",
              "       [-1.53195069e+00,  3.26865696e-01],\n",
              "       [ 3.32460561e-01,  1.82097881e-03],\n",
              "       [ 2.19687181e+00, -7.04111806e-02],\n",
              "       [-1.45737424e+00,  3.26865696e-01],\n",
              "       [-4.87880390e-01, -1.06527260e-01],\n",
              "       [ 2.34602471e+00,  1.82401377e-01],\n",
              "       [ 6.30766361e-01, -2.87107659e-01],\n",
              "       [ 1.60026021e+00, -3.42951009e-02],\n",
              "       [ 1.60026021e+00,  2.18517457e-01],\n",
              "       [ 1.52568376e+00, -1.06527260e-01],\n",
              "       [-9.35339090e-01,  1.46285298e-01],\n",
              "       [ 4.81613461e-01,  1.10169218e-01],\n",
              "       [ 1.08731211e-01, -7.04111806e-02],\n",
              "       [-1.15906844e+00,  7.40531382e-02],\n",
              "       [ 7.79919261e-01, -2.87107659e-01],\n",
              "       [ 1.37653086e+00,  3.79370585e-02],\n",
              "       [-4.04216893e-02,  1.82401377e-01],\n",
              "       [ 2.12229536e+00, -3.23223739e-01],\n",
              "       [ 5.56189911e-01, -2.14875499e-01],\n",
              "       [-1.30822134e+00,  2.54633537e-01],\n",
              "       [ 7.05342811e-01, -1.42643340e-01],\n",
              "       [ 1.22737796e+00,  2.90749617e-01],\n",
              "       [-1.23364489e+00,  1.82401377e-01],\n",
              "       [-3.38727490e-01,  3.62981776e-01],\n",
              "       [ 8.54495712e-01, -1.42643340e-01],\n",
              "       [ 2.19687181e+00,  1.82401377e-01],\n",
              "       [-1.53195069e+00, -3.23223739e-01],\n",
              "       [ 7.05342811e-01, -3.42951009e-02],\n",
              "       [ 1.08731211e-01, -3.59339818e-01],\n",
              "       [-1.08449199e+00,  7.40531382e-02],\n",
              "       [ 6.30766361e-01, -1.06527260e-01],\n",
              "       [-8.60762640e-01,  1.82097881e-03],\n",
              "       [ 7.05342811e-01, -2.87107659e-01],\n",
              "       [-1.38279779e+00, -3.42951009e-02],\n",
              "       [-1.15906844e+00, -3.23223739e-01],\n",
              "       [ 7.79919261e-01, -7.04111806e-02],\n",
              "       [ 2.12229536e+00,  3.26865696e-01],\n",
              "       [-9.35339090e-01,  1.82401377e-01],\n",
              "       [ 7.79919261e-01,  2.18517457e-01],\n",
              "       [-1.30822134e+00, -2.87107659e-01],\n",
              "       [ 2.04771891e+00,  1.82097881e-03],\n",
              "       [ 1.15280151e+00, -1.42643340e-01],\n",
              "       [ 2.19687181e+00, -2.50991579e-01],\n",
              "       [ 2.04771891e+00, -7.04111806e-02],\n",
              "       [ 1.97314246e+00,  7.40531382e-02],\n",
              "       [-1.45737424e+00,  1.46285298e-01],\n",
              "       [-4.04216893e-02, -2.87107659e-01],\n",
              "       [-1.45737424e+00, -1.42643340e-01],\n",
              "       [-1.53195069e+00, -7.04111806e-02],\n",
              "       [-1.45737424e+00,  1.82097881e-03],\n",
              "       [ 1.82398956e+00, -2.50991579e-01],\n",
              "       [ 9.29072162e-01, -2.50991579e-01],\n",
              "       [ 8.54495712e-01,  2.54633537e-01],\n",
              "       [-8.60762640e-01,  2.18517457e-01],\n",
              "       [-4.04216893e-02, -3.59339818e-01],\n",
              "       [ 1.08731211e-01,  2.90749617e-01],\n",
              "       [ 3.41547607e-02,  1.48258025e+00],\n",
              "       [-1.15906844e+00, -7.56616695e-01],\n",
              "       [-5.62456840e-01,  9.76955131e-01],\n",
              "       [ 3.32460561e-01, -5.39920217e-01],\n",
              "       [ 1.08731211e-01,  1.62704457e+00],\n",
              "       [ 1.52568376e+00, -1.40670613e+00],\n",
              "       [-4.04216893e-02,  9.04722972e-01],\n",
              "       [ 6.30766361e-01, -1.47893829e+00],\n",
              "       [ 3.41547607e-02,  9.04722972e-01],\n",
              "       [-1.00991554e+00, -5.76036297e-01],\n",
              "       [-5.62456840e-01,  7.60258653e-01],\n",
              "       [-1.38279779e+00, -1.62340261e+00],\n",
              "       [-7.11609740e-01,  1.37423201e+00],\n",
              "       [ 4.07037011e-01, -1.55117045e+00],\n",
              "       [-4.87880390e-01,  8.32490812e-01],\n",
              "       [-1.45737424e+00, -1.44282221e+00],\n",
              "       [-2.64151040e-01,  7.96374733e-01],\n",
              "       [ 1.37653086e+00, -1.62340261e+00],\n",
              "       [-4.87880390e-01,  1.55481241e+00],\n",
              "       [-7.86186190e-01, -3.59339818e-01],\n",
              "       [-4.87880390e-01,  1.33811593e+00],\n",
              "       [-1.00991554e+00, -1.37059005e+00],\n",
              "       [-7.86186190e-01,  1.69927673e+00],\n",
              "       [ 7.05342811e-01, -5.03804137e-01],\n",
              "       [-4.87880390e-01,  8.68606892e-01],\n",
              "       [-3.38727490e-01, -1.00942925e+00],\n",
              "       [-3.38727490e-01,  1.44646417e+00],\n",
              "       [ 3.32460561e-01, -1.19000965e+00],\n",
              "       [ 3.41547607e-02,  1.37423201e+00],\n",
              "       [ 4.07037011e-01, -1.08166141e+00],\n",
              "       [-4.04216893e-02,  9.40839051e-01],\n",
              "       [ 6.30766361e-01, -1.22612573e+00],\n",
              "       [-8.60762640e-01,  1.41034809e+00],\n",
              "       [-1.14998139e-01, -1.65951869e+00],\n",
              "       [-6.37033290e-01,  1.01307121e+00],\n",
              "       [-3.38727490e-01, -1.62340261e+00],\n",
              "       [-6.37033290e-01,  8.32490812e-01],\n",
              "       [ 1.30195441e+00, -5.39920217e-01],\n",
              "       [-7.11609740e-01,  1.19365161e+00],\n",
              "       [-1.45737424e+00, -1.62340261e+00],\n",
              "       [-5.62456840e-01,  1.55481241e+00],\n",
              "       [ 8.54495712e-01, -8.64964934e-01],\n",
              "       [-1.89574589e-01,  9.04722972e-01],\n",
              "       [ 2.57884111e-01, -1.08166141e+00],\n",
              "       [-4.13303940e-01,  1.62704457e+00],\n",
              "       [-1.89574589e-01, -8.28848855e-01],\n",
              "       [-4.87880390e-01,  4.71330015e-01],\n",
              "       [ 1.08731211e-01, -1.33447397e+00],\n",
              "       [-7.86186190e-01,  9.04722972e-01],\n",
              "       [-1.89574589e-01, -1.44282221e+00],\n",
              "       [-1.89574589e-01,  1.51869633e+00],\n",
              "       [ 1.00364861e+00, -1.33447397e+00],\n",
              "       [-6.37033290e-01,  1.30199985e+00],\n",
              "       [ 1.45110731e+00, -1.26224181e+00],\n",
              "       [-8.60762640e-01, -1.62340261e+00],\n",
              "       [ 1.52568376e+00, -1.29835789e+00],\n",
              "       [-2.64151040e-01,  1.44646417e+00],\n",
              "       [-1.14998139e-01, -6.48268456e-01],\n",
              "       [-4.87880390e-01,  1.30199985e+00],\n",
              "       [ 5.56189911e-01, -1.26224181e+00],\n",
              "       [-7.11609740e-01,  1.37423201e+00],\n",
              "       [ 1.83307661e-01, -3.95455898e-01],\n",
              "       [-6.37033290e-01,  1.69927673e+00],\n",
              "       [ 1.15280151e+00, -9.37197094e-01],\n",
              "       [-7.86186190e-01,  6.51910414e-01],\n",
              "       [ 1.83307661e-01, -1.19000965e+00],\n",
              "       [-1.89574589e-01,  1.26588377e+00],\n",
              "       [-3.38727490e-01, -9.73313174e-01],\n",
              "       [-4.87880390e-01,  6.88026493e-01],\n",
              "       [-4.13303940e-01, -1.51505437e+00],\n",
              "       [-4.04216893e-02,  1.48258025e+00],\n",
              "       [ 6.30766361e-01, -1.22612573e+00],\n",
              "       [-2.64151040e-01,  1.04918729e+00],\n",
              "       [ 4.81613461e-01, -7.92732775e-01],\n",
              "       [-4.87880390e-01,  8.68606892e-01],\n",
              "       [-5.62456840e-01,  7.60258653e-01],\n",
              "       [-1.38279779e+00, -1.62340261e+00],\n",
              "       [-7.11609740e-01,  1.37423201e+00],\n",
              "       [ 4.07037011e-01, -1.55117045e+00],\n",
              "       [-4.87880390e-01,  8.32490812e-01],\n",
              "       [-1.45737424e+00, -1.44282221e+00],\n",
              "       [-2.64151040e-01,  7.96374733e-01],\n",
              "       [ 1.37653086e+00, -1.62340261e+00],\n",
              "       [-4.87880390e-01,  1.55481241e+00],\n",
              "       [-4.87880390e-01,  1.33811593e+00],\n",
              "       [-1.00991554e+00, -1.37059005e+00],\n",
              "       [-7.86186190e-01,  1.69927673e+00],\n",
              "       [ 7.05342811e-01, -5.03804137e-01],\n",
              "       [-4.87880390e-01,  8.68606892e-01],\n",
              "       [-3.38727490e-01, -1.00942925e+00],\n",
              "       [ 3.32460561e-01, -1.19000965e+00],\n",
              "       [ 3.41547607e-02,  1.37423201e+00],\n",
              "       [ 4.07037011e-01, -1.08166141e+00],\n",
              "       [-4.04216893e-02,  9.40839051e-01],\n",
              "       [ 6.30766361e-01, -1.22612573e+00],\n",
              "       [-8.60762640e-01,  1.41034809e+00],\n",
              "       [-1.14998139e-01, -1.62340261e+00],\n",
              "       [-6.37033290e-01,  1.01307121e+00],\n",
              "       [-6.37033290e-01,  8.32490812e-01],\n",
              "       [ 1.30195441e+00, -5.39920217e-01],\n",
              "       [-7.11609740e-01,  1.19365161e+00],\n",
              "       [-1.45737424e+00, -1.62340261e+00],\n",
              "       [-5.62456840e-01,  1.55481241e+00],\n",
              "       [ 8.54495712e-01, -8.64964934e-01],\n",
              "       [-1.89574589e-01,  9.04722972e-01],\n",
              "       [ 2.57884111e-01, -1.08166141e+00],\n",
              "       [-4.13303940e-01,  1.62704457e+00],\n",
              "       [-1.89574589e-01, -8.28848855e-01],\n",
              "       [-4.87880390e-01,  4.71330015e-01],\n",
              "       [ 1.08731211e-01, -1.33447397e+00],\n",
              "       [-7.86186190e-01,  9.04722972e-01],\n",
              "       [-1.89574589e-01, -1.44282221e+00],\n",
              "       [ 1.00364861e+00, -1.33447397e+00],\n",
              "       [-6.37033290e-01,  1.30199985e+00],\n",
              "       [ 1.45110731e+00, -1.26224181e+00],\n",
              "       [-8.60762640e-01,  6.88026493e-01],\n",
              "       [ 1.52568376e+00, -1.29835789e+00],\n",
              "       [-2.64151040e-01,  1.44646417e+00],\n",
              "       [-1.14998139e-01, -6.48268456e-01],\n",
              "       [-4.87880390e-01,  1.30199985e+00]])"
            ]
          },
          "metadata": {},
          "execution_count": 6
        }
      ]
    },
    {
      "cell_type": "code",
      "source": [
        "print(silhouette_score(new_df,labels=labels1))\n",
        "print(silhouette_score(new_df2,labels=labels2))"
      ],
      "metadata": {
        "id": "BMB_VyugocSe",
        "outputId": "e56b1743-8227-483a-f8b2-89e02b3fd3e1",
        "colab": {
          "base_uri": "https://localhost:8080/"
        }
      },
      "execution_count": null,
      "outputs": [
        {
          "output_type": "stream",
          "name": "stdout",
          "text": [
            "0.5410815596473426\n",
            "0.5947736006867299\n"
          ]
        }
      ]
    },
    {
      "cell_type": "markdown",
      "metadata": {
        "id": "Fo1GIiVdFP4j"
      },
      "source": [
        "Expected output:\n",
        "\n",
        "n_cluster =2\n",
        "\n",
        "![](https://drive.google.com/uc?id=1RHedPeGR48w-cWl7WWkIsHTSB2DRgynO)\n",
        "\n",
        "\n",
        "Elbow graph\n",
        "\n",
        "![](https://drive.google.com/uc?id=1S3_uvQWzJCi8YwSBbpu2imKbUBZ3JdmV)\n",
        "\n",
        "n_cluster =3\n",
        "\n",
        "![](https://drive.google.com/uc?id=1EVMDQgPpC8vYpfxilyiJMRDNIr-JXULd)"
      ]
    },
    {
      "cell_type": "markdown",
      "metadata": {
        "id": "5xpMIoEcm8MM"
      },
      "source": [
        "\n",
        "\n",
        "---\n",
        "\n",
        "\n",
        "\n",
        "---\n",
        "\n",
        "\n",
        "\n",
        "---\n",
        "\n"
      ]
    },
    {
      "cell_type": "markdown",
      "metadata": {
        "id": "pt-NFlqTm-Og"
      },
      "source": [
        "# Soal 3. Analisa Data Hasil Clustering\n",
        "\n",
        "Dari hasil klustering diatas, buatlah sebuah analisa segmentasi pelanggan untuk kemajuan supermarket. "
      ]
    },
    {
      "cell_type": "markdown",
      "metadata": {
        "id": "zNPDstJynpva"
      },
      "source": [
        "Jawab disini:\n",
        "Berdasarkan dari clustering k = 3, kebanyakan dari customer yang datang adalah rata-rata umur keatas (0.5 s.d 2.5) sedangkan, untuk skor belanja semakin baik didapatkan dari rata-rata umur kebawah (0.5 s.d -1.5)\n",
        "\n",
        "pengklusteran menjadi k=3 membuat nilai silhouette lebih menjauhi overlapping cluster."
      ]
    }
  ]
}