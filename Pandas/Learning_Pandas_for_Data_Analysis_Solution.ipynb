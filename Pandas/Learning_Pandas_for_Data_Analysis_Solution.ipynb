{
  "cells": [
    {
      "cell_type": "markdown",
      "metadata": {
        "id": "1ivPDcc7p8lD"
      },
      "source": [
        "# TASK #1. DEFINE A PANDAS SERIES"
      ]
    },
    {
      "cell_type": "code",
      "execution_count": 1,
      "metadata": {
        "id": "4YdCraz8p_XF"
      },
      "outputs": [],
      "source": [
        "# Pandas is a data manipulation and analysis tool that is built on Numpy.\n",
        "# Pandas uses a data structure known as DataFrame (think of it as Microsoft excel in Python). \n",
        "# DataFrames empower programmers to store and manipulate data in a tabular fashion (rows and columns).\n",
        "# Series Vs. DataFrame? Series is considered a single column of a DataFrame.\n",
        "\n",
        "import pandas as pd "
      ]
    },
    {
      "cell_type": "code",
      "execution_count": 2,
      "metadata": {
        "colab": {
          "base_uri": "https://localhost:8080/"
        },
        "id": "SA9m0RD3K2TF",
        "outputId": "19078d5c-59b0-473d-966a-2d3a72b32b3e"
      },
      "outputs": [
        {
          "output_type": "execute_result",
          "data": {
            "text/plain": [
              "['BTC', 'XRP', 'LTC', 'ADA', 'ETH']"
            ]
          },
          "metadata": {},
          "execution_count": 2
        }
      ],
      "source": [
        "# define a Python list that contains 5 crypto currencies \n",
        "crypto_list = ['BTC','XRP','LTC', 'ADA', 'ETH'] \n",
        "crypto_list"
      ]
    },
    {
      "cell_type": "code",
      "execution_count": 3,
      "metadata": {
        "colab": {
          "base_uri": "https://localhost:8080/"
        },
        "id": "G-fooAckNafC",
        "outputId": "0e9cdd6f-f097-4aed-9a94-ce366daddb56",
        "scrolled": true
      },
      "outputs": [
        {
          "output_type": "execute_result",
          "data": {
            "text/plain": [
              "list"
            ]
          },
          "metadata": {},
          "execution_count": 3
        }
      ],
      "source": [
        "# confirm the Datatype\n",
        "type(crypto_list)"
      ]
    },
    {
      "cell_type": "code",
      "execution_count": 4,
      "metadata": {
        "colab": {
          "base_uri": "https://localhost:8080/"
        },
        "id": "hle4zw51K6-P",
        "outputId": "82d469b8-03cc-47eb-b364-d67fcef4f218"
      },
      "outputs": [
        {
          "output_type": "execute_result",
          "data": {
            "text/plain": [
              "0    BTC\n",
              "1    XRP\n",
              "2    LTC\n",
              "3    ADA\n",
              "4    ETH\n",
              "dtype: object"
            ]
          },
          "metadata": {},
          "execution_count": 4
        }
      ],
      "source": [
        "# create a one dimensional Pandas \"series\" \n",
        "# use Pandas Constructor Method to create a series from a Python list\n",
        "# Note that series is formed of data and associated index (numeric index has been automatically generated) \n",
        "# Object datatype is used for text data (String)\n",
        "crypto_series = pd.Series(data = crypto_list) \n",
        "crypto_series"
      ]
    },
    {
      "cell_type": "code",
      "execution_count": 5,
      "metadata": {
        "colab": {
          "base_uri": "https://localhost:8080/"
        },
        "id": "-HNCtPcoNUyf",
        "outputId": "fc9cf5d3-e64d-4c2f-f565-a9dace354d42"
      },
      "outputs": [
        {
          "output_type": "execute_result",
          "data": {
            "text/plain": [
              "pandas.core.series.Series"
            ]
          },
          "metadata": {},
          "execution_count": 5
        }
      ],
      "source": [
        "# confirm the Pandas Series Datatype\n",
        "type(crypto_series)"
      ]
    },
    {
      "cell_type": "code",
      "execution_count": 6,
      "metadata": {
        "colab": {
          "base_uri": "https://localhost:8080/"
        },
        "id": "LB2J-qw5LdQI",
        "outputId": "6b0fc105-86e3-487e-da6c-e23b3d522951"
      },
      "outputs": [
        {
          "output_type": "execute_result",
          "data": {
            "text/plain": [
              "0    2000\n",
              "1     500\n",
              "2    2000\n",
              "3      20\n",
              "4      50\n",
              "dtype: int64"
            ]
          },
          "metadata": {},
          "execution_count": 6
        }
      ],
      "source": [
        "# define another Pandas Series that contains numeric values (crypto prices) instead of text data\n",
        "# Note that we have int64 datatype which means it's integer stored in 64 bits in memory\n",
        "crypto_prices_series = pd.Series(data = [2000, 500, 2000, 20, 50])\n",
        "crypto_prices_series"
      ]
    },
    {
      "cell_type": "markdown",
      "metadata": {
        "id": "XN92TgiQOD7I"
      },
      "source": [
        "# TASK #2. DEFINE A PANDAS SERIES WITH CUSTOM INDEX"
      ]
    },
    {
      "cell_type": "code",
      "execution_count": 7,
      "metadata": {
        "colab": {
          "base_uri": "https://localhost:8080/"
        },
        "id": "K4Y9jVx1OaN4",
        "outputId": "3903b653-a091-4e29-9b30-dd508c2beea2"
      },
      "outputs": [
        {
          "output_type": "execute_result",
          "data": {
            "text/plain": [
              "['BTC', 'XRP', 'LTC', 'ADA', 'ETH']"
            ]
          },
          "metadata": {},
          "execution_count": 7
        }
      ],
      "source": [
        "# define a Python list that contains 5 Crypto currencies\n",
        "crypto_list = ['BTC','XRP','LTC', 'ADA', 'ETH'] \n",
        "crypto_list"
      ]
    },
    {
      "cell_type": "code",
      "execution_count": 8,
      "metadata": {
        "colab": {
          "base_uri": "https://localhost:8080/"
        },
        "id": "ZSxdgs_xJvxx",
        "outputId": "376d9978-5d22-4b74-f191-befe597b5147"
      },
      "outputs": [
        {
          "output_type": "execute_result",
          "data": {
            "text/plain": [
              "['crypto#1', 'crypto#2', 'crypto#3', 'crypto#4', 'crypto#5']"
            ]
          },
          "metadata": {},
          "execution_count": 8
        }
      ],
      "source": [
        "# define a python list as shown below. This python list will be used for the Series index:\n",
        "crypto_labels = ['crypto#1', 'crypto#2', 'crypto#3', 'crypto#4', 'crypto#5']\n",
        "crypto_labels"
      ]
    },
    {
      "cell_type": "code",
      "execution_count": 9,
      "metadata": {
        "id": "U4Fq06XwqX9v"
      },
      "outputs": [],
      "source": [
        "# create a one dimensional Pandas \"series\" \n",
        "# use Pandas Constructor Method to create a series from a Python list\n",
        "# Note that this series is formed of data and associated labels \n",
        "crypto_series = pd.Series(data = crypto_list, index = crypto_labels)"
      ]
    },
    {
      "cell_type": "code",
      "execution_count": 10,
      "metadata": {
        "colab": {
          "base_uri": "https://localhost:8080/"
        },
        "id": "YhPzprisqX_8",
        "outputId": "b1b7cd86-8eba-432b-f844-0ed352e2207c"
      },
      "outputs": [
        {
          "output_type": "execute_result",
          "data": {
            "text/plain": [
              "crypto#1    BTC\n",
              "crypto#2    XRP\n",
              "crypto#3    LTC\n",
              "crypto#4    ADA\n",
              "crypto#5    ETH\n",
              "dtype: object"
            ]
          },
          "metadata": {},
          "execution_count": 10
        }
      ],
      "source": [
        "# view the series\n",
        "crypto_series"
      ]
    },
    {
      "cell_type": "code",
      "execution_count": 11,
      "metadata": {
        "colab": {
          "base_uri": "https://localhost:8080/"
        },
        "id": "4LPwMO8fsvi1",
        "outputId": "21751685-f27b-4480-f593-fa957542601f"
      },
      "outputs": [
        {
          "output_type": "execute_result",
          "data": {
            "text/plain": [
              "pandas.core.series.Series"
            ]
          },
          "metadata": {},
          "execution_count": 11
        }
      ],
      "source": [
        "type(crypto_series)"
      ]
    },
    {
      "cell_type": "markdown",
      "metadata": {
        "id": "96EH6h9SQYW1"
      },
      "source": [
        "# TASK #3. DEFINE A PANDAS SERIES FROM A DICTIONARY"
      ]
    },
    {
      "cell_type": "code",
      "execution_count": 12,
      "metadata": {
        "id": "fk9R_fZlML_y"
      },
      "outputs": [],
      "source": [
        "# A Dictionary consists of a collection of key-value pairs. Each key-value pair maps the key to its corresponding value.\n",
        "# Keys are unique within a dictionary while values may not be. \n",
        "# List elements are accessed by their position in the list, via indexing while Dictionary elements are accessed via keys\n",
        "# Define a dictionary named \"my_dict\" using key-value pairs\n",
        "my_dict = {'Employee ID' : 1, \n",
        "           'Employee Name' : 'Steve', \n",
        "           'Salary [$]' : 2000, \n",
        "           'Years with company' : 10}"
      ]
    },
    {
      "cell_type": "code",
      "execution_count": 13,
      "metadata": {
        "colab": {
          "base_uri": "https://localhost:8080/"
        },
        "id": "BlHhf-YPQdrB",
        "outputId": "87981fcb-26f4-4e15-9e1a-3ebd5a60e807"
      },
      "outputs": [
        {
          "output_type": "execute_result",
          "data": {
            "text/plain": [
              "{'Employee ID': 1,\n",
              " 'Employee Name': 'Steve',\n",
              " 'Salary [$]': 2000,\n",
              " 'Years with company': 10}"
            ]
          },
          "metadata": {},
          "execution_count": 13
        }
      ],
      "source": [
        "# Show the dictionary\n",
        "my_dict"
      ]
    },
    {
      "cell_type": "code",
      "execution_count": 14,
      "metadata": {
        "colab": {
          "base_uri": "https://localhost:8080/"
        },
        "id": "0b4KQo3JMcI0",
        "outputId": "c39ec559-6789-47a6-ed71-9ab76e41f0f7"
      },
      "outputs": [
        {
          "output_type": "execute_result",
          "data": {
            "text/plain": [
              "dict"
            ]
          },
          "metadata": {},
          "execution_count": 14
        }
      ],
      "source": [
        "# Confirm the dictionary datatype \n",
        "type(my_dict)"
      ]
    },
    {
      "cell_type": "code",
      "execution_count": 15,
      "metadata": {
        "colab": {
          "base_uri": "https://localhost:8080/"
        },
        "id": "LeH27Q4aQeXe",
        "outputId": "48c057ae-5ab4-46cd-d9c9-1e64956b7b82"
      },
      "outputs": [
        {
          "output_type": "execute_result",
          "data": {
            "text/plain": [
              "Employee ID               1\n",
              "Employee Name         Steve\n",
              "Salary [$]             2000\n",
              "Years with company       10\n",
              "dtype: object"
            ]
          },
          "metadata": {},
          "execution_count": 15
        }
      ],
      "source": [
        "employee_series = pd.Series(my_dict)\n",
        "employee_series"
      ]
    },
    {
      "cell_type": "markdown",
      "metadata": {
        "id": "VGlb7t7WRIR3"
      },
      "source": [
        "# TASK #4. PANDAS ATTRIBUTES"
      ]
    },
    {
      "cell_type": "code",
      "execution_count": 16,
      "metadata": {
        "colab": {
          "base_uri": "https://localhost:8080/"
        },
        "id": "p4FauWQlRRD8",
        "outputId": "1fe44b1a-5bd9-48f7-8012-f4bde78705c6"
      },
      "outputs": [
        {
          "output_type": "execute_result",
          "data": {
            "text/plain": [
              "0    BTC\n",
              "1    XRP\n",
              "2    LTC\n",
              "3    ADA\n",
              "4    ETH\n",
              "dtype: object"
            ]
          },
          "metadata": {},
          "execution_count": 16
        }
      ],
      "source": [
        "# Attributes/Properties: do not use parantheses \"()\" and are used to get Pandas Series Properties. Ex: my_series.values, my_series.shape\n",
        "# Methods: use parantheses \"()\" and might include arguments and they actually alter/change the Pandas Series. Ex: my_series.tail(), my_series.head(), my_series.drop_duplicates()\n",
        "# Indexers: use square brackets \"[]\" and are used to access specific elements in a Pandas Series or DataFrame. Ex: my_series.loc[], my_series.iloc[]\n",
        "\n",
        "crypto_list = ['BTC','XRP','LTC', 'ADA', 'ETH'] \n",
        "crypto_series = pd.Series(data = crypto_list)\n",
        "crypto_series"
      ]
    },
    {
      "cell_type": "code",
      "execution_count": 17,
      "metadata": {
        "colab": {
          "base_uri": "https://localhost:8080/"
        },
        "id": "KBgZI_vHQeeA",
        "outputId": "06e53265-b67f-4e5e-f618-5eea7f6e2ca8"
      },
      "outputs": [
        {
          "output_type": "execute_result",
          "data": {
            "text/plain": [
              "array(['BTC', 'XRP', 'LTC', 'ADA', 'ETH'], dtype=object)"
            ]
          },
          "metadata": {},
          "execution_count": 17
        }
      ],
      "source": [
        "# \".Values\" attribute is used to return Series as ndarray depending on its dtype\n",
        "crypto_series.values"
      ]
    },
    {
      "cell_type": "code",
      "execution_count": 18,
      "metadata": {
        "colab": {
          "base_uri": "https://localhost:8080/"
        },
        "id": "YDunyBEQRtoJ",
        "outputId": "066d6c39-dbad-4747-dfb4-4fd5da5f4256"
      },
      "outputs": [
        {
          "output_type": "execute_result",
          "data": {
            "text/plain": [
              "RangeIndex(start=0, stop=5, step=1)"
            ]
          },
          "metadata": {},
          "execution_count": 18
        }
      ],
      "source": [
        "# index is used to return the index (axis labels) of the Series\n",
        "crypto_series.index"
      ]
    },
    {
      "cell_type": "code",
      "execution_count": 19,
      "metadata": {
        "colab": {
          "base_uri": "https://localhost:8080/"
        },
        "id": "7bgfGfQaSrqw",
        "outputId": "418b7ed6-2cdb-463d-d85d-da79a4c39e80"
      },
      "outputs": [
        {
          "output_type": "execute_result",
          "data": {
            "text/plain": [
              "dtype('O')"
            ]
          },
          "metadata": {},
          "execution_count": 19
        }
      ],
      "source": [
        "# dtype is used to return the datatype of the Series ('O' stands for 'object' datatype)\n",
        "crypto_series.dtype"
      ]
    },
    {
      "cell_type": "code",
      "execution_count": 20,
      "metadata": {
        "colab": {
          "base_uri": "https://localhost:8080/"
        },
        "id": "XeQtP9v2dxzu",
        "outputId": "60849774-d8e3-4fee-a80a-b140a064c26a"
      },
      "outputs": [
        {
          "output_type": "execute_result",
          "data": {
            "text/plain": [
              "True"
            ]
          },
          "metadata": {},
          "execution_count": 20
        }
      ],
      "source": [
        "# Check if all elements are unique or not\n",
        "crypto_series.is_unique"
      ]
    },
    {
      "cell_type": "code",
      "execution_count": 21,
      "metadata": {
        "colab": {
          "base_uri": "https://localhost:8080/"
        },
        "id": "8VWnKVh0d7Kw",
        "outputId": "c7de4a19-2b16-4c8b-f4a4-7af93c575df8"
      },
      "outputs": [
        {
          "output_type": "execute_result",
          "data": {
            "text/plain": [
              "(5,)"
            ]
          },
          "metadata": {},
          "execution_count": 21
        }
      ],
      "source": [
        "# Check the shape of the Series\n",
        "# note that a Series is one dimensional\n",
        "crypto_series.shape"
      ]
    },
    {
      "cell_type": "markdown",
      "metadata": {
        "id": "Qc7sVau-UtYt"
      },
      "source": [
        "# TASK #5. PANDAS METHODS"
      ]
    },
    {
      "cell_type": "code",
      "execution_count": 22,
      "metadata": {
        "colab": {
          "base_uri": "https://localhost:8080/"
        },
        "id": "5gwWM4VvUxI2",
        "outputId": "66f01bf1-f1d6-44a6-b9fd-fc8ef7d3f385"
      },
      "outputs": [
        {
          "output_type": "execute_result",
          "data": {
            "text/plain": [
              "0     400\n",
              "1     500\n",
              "2    1500\n",
              "3      20\n",
              "4      70\n",
              "dtype: int64"
            ]
          },
          "metadata": {},
          "execution_count": 22
        }
      ],
      "source": [
        "# Methods have parentheses and they actually alter/change the Pandas Series\n",
        "# Methods: use parantheses \"()\" and might include arguments. Ex: my_series.tail(), my_series.head(), my_series.drop_duplicates()\n",
        "# define another Pandas Series that contains numeric values (crypto prices) instead of text data\n",
        "# Note that we have int64 datatype which means it contains integer values stored in 64 bits in memory\n",
        "crypto_prices = pd.Series(data = [400, 500, 1500, 20, 70])\n",
        "crypto_prices"
      ]
    },
    {
      "cell_type": "code",
      "execution_count": 23,
      "metadata": {
        "colab": {
          "base_uri": "https://localhost:8080/"
        },
        "id": "ImwFgVASUxLa",
        "outputId": "e5b47864-ac01-4e7f-8f7c-1e10f2b9e76d"
      },
      "outputs": [
        {
          "output_type": "execute_result",
          "data": {
            "text/plain": [
              "2490"
            ]
          },
          "metadata": {},
          "execution_count": 23
        }
      ],
      "source": [
        "# obtain the sum of all elements in the Pandas Series\n",
        "crypto_prices.sum()"
      ]
    },
    {
      "cell_type": "code",
      "execution_count": 24,
      "metadata": {
        "colab": {
          "base_uri": "https://localhost:8080/"
        },
        "id": "OLa69YwxUxOa",
        "outputId": "6aa05a4c-d31c-4789-d68c-9a25bf4bb613"
      },
      "outputs": [
        {
          "output_type": "execute_result",
          "data": {
            "text/plain": [
              "420000000000"
            ]
          },
          "metadata": {},
          "execution_count": 24
        }
      ],
      "source": [
        "# obtain the multiplication of all elements in the Pandas Series\n",
        "crypto_prices.product()"
      ]
    },
    {
      "cell_type": "code",
      "execution_count": 25,
      "metadata": {
        "colab": {
          "base_uri": "https://localhost:8080/"
        },
        "id": "xVMJtbtkUxQ-",
        "outputId": "cf97f38e-db08-4a3b-b3c8-121245c6c647"
      },
      "outputs": [
        {
          "output_type": "execute_result",
          "data": {
            "text/plain": [
              "498.0"
            ]
          },
          "metadata": {},
          "execution_count": 25
        }
      ],
      "source": [
        "# obtain the average\n",
        "crypto_prices.mean()"
      ]
    },
    {
      "cell_type": "code",
      "execution_count": 26,
      "metadata": {
        "colab": {
          "base_uri": "https://localhost:8080/"
        },
        "id": "FgqSFr98YTUw",
        "outputId": "f5b161fd-3b4f-4d39-8cd5-74a3e97dec91"
      },
      "outputs": [
        {
          "output_type": "execute_result",
          "data": {
            "text/plain": [
              "0    400\n",
              "1    500\n",
              "dtype: int64"
            ]
          },
          "metadata": {},
          "execution_count": 26
        }
      ],
      "source": [
        "# show the first couple of elements in the Pandas Series\n",
        "crypto_prices.head(2)"
      ]
    },
    {
      "cell_type": "code",
      "execution_count": 27,
      "metadata": {
        "colab": {
          "base_uri": "https://localhost:8080/"
        },
        "id": "GFoxw41LZrBs",
        "outputId": "6082b5ed-7d79-4a6f-87de-099e116a04e0"
      },
      "outputs": [
        {
          "output_type": "execute_result",
          "data": {
            "text/plain": [
              "0     400\n",
              "1     500\n",
              "2    1500\n",
              "dtype: int64"
            ]
          },
          "metadata": {},
          "execution_count": 27
        }
      ],
      "source": [
        "# Note that head creates a new dataframe \n",
        "new_crypto_prices = crypto_prices.head(3)\n",
        "new_crypto_prices"
      ]
    },
    {
      "cell_type": "markdown",
      "metadata": {
        "id": "vzu3jPDbasz5"
      },
      "source": [
        "# TASK #6. IMPORT CSV DATA (1-D) USING PANDAS"
      ]
    },
    {
      "cell_type": "code",
      "execution_count": 28,
      "metadata": {
        "id": "zLiVpmH2asz6"
      },
      "outputs": [],
      "source": [
        "# Pandas read_csv is used to read a csv file and store data in a DataFrame by default (DataFrames will be covered shortly)\n",
        "# Use Squeeze to convert it into a Pandas Series (One-dimensional)\n",
        "# Notice that no foramtting exists when a Series is plotted\n",
        "BTC_price_series = pd.read_csv('crypto.csv', squeeze = True)"
      ]
    },
    {
      "cell_type": "code",
      "execution_count": 29,
      "metadata": {
        "id": "Py1fYuPFasz6",
        "colab": {
          "base_uri": "https://localhost:8080/"
        },
        "outputId": "86a35d3a-7da7-4ad8-f414-9e3552a98bc7"
      },
      "outputs": [
        {
          "output_type": "execute_result",
          "data": {
            "text/plain": [
              "0         457.334015\n",
              "1         424.440002\n",
              "2         394.795990\n",
              "3         408.903992\n",
              "4         398.821014\n",
              "            ...     \n",
              "2380    55950.746090\n",
              "2381    57750.199220\n",
              "2382    58917.691410\n",
              "2383    58918.832030\n",
              "2384    59095.808590\n",
              "Name: BTC-USD Price, Length: 2385, dtype: float64"
            ]
          },
          "metadata": {},
          "execution_count": 29
        }
      ],
      "source": [
        "BTC_price_series"
      ]
    },
    {
      "cell_type": "markdown",
      "metadata": {
        "id": "8HBGOWjKaK_i"
      },
      "source": [
        "# TASK #7. PANDAS BUILT-IN FUNCTIONS"
      ]
    },
    {
      "cell_type": "code",
      "execution_count": 77,
      "metadata": {
        "id": "-Q-1iWEqaP6y"
      },
      "outputs": [],
      "source": [
        "BTC_price_series = pd.read_csv('crypto.csv', squeeze = True)\n"
      ]
    },
    {
      "cell_type": "code",
      "execution_count": 31,
      "metadata": {
        "id": "g759k2IPdVH-",
        "colab": {
          "base_uri": "https://localhost:8080/"
        },
        "outputId": "5c76a5fb-d6b2-47eb-c07e-be986754ea90"
      },
      "outputs": [
        {
          "output_type": "execute_result",
          "data": {
            "text/plain": [
              "pandas.core.series.Series"
            ]
          },
          "metadata": {},
          "execution_count": 31
        }
      ],
      "source": [
        "# Obtain the Data Type of the Pandas Series\n",
        "type(BTC_price_series)"
      ]
    },
    {
      "cell_type": "code",
      "execution_count": 32,
      "metadata": {
        "id": "NbKysqrSaQ32",
        "colab": {
          "base_uri": "https://localhost:8080/"
        },
        "outputId": "45ab1a78-7a65-44f1-8281-7ecd94d78d76"
      },
      "outputs": [
        {
          "output_type": "execute_result",
          "data": {
            "text/plain": [
              "2385"
            ]
          },
          "metadata": {},
          "execution_count": 32
        }
      ],
      "source": [
        "# Obtain the length of the Pandas Series\n",
        "len(BTC_price_series)"
      ]
    },
    {
      "cell_type": "code",
      "execution_count": 33,
      "metadata": {
        "id": "FeeA8actaQ6P",
        "colab": {
          "base_uri": "https://localhost:8080/"
        },
        "outputId": "308772ff-5854-490d-8d3c-00e7916784c7"
      },
      "outputs": [
        {
          "output_type": "execute_result",
          "data": {
            "text/plain": [
              "61243.08594"
            ]
          },
          "metadata": {},
          "execution_count": 33
        }
      ],
      "source": [
        "# Obtain the maximum value of the Pandas Series\n",
        "max(BTC_price_series)"
      ]
    },
    {
      "cell_type": "code",
      "execution_count": 34,
      "metadata": {
        "id": "fyhw96-JaQ8a",
        "colab": {
          "base_uri": "https://localhost:8080/"
        },
        "outputId": "77f07f13-1ee2-4155-ecdb-6b6c328868b9"
      },
      "outputs": [
        {
          "output_type": "execute_result",
          "data": {
            "text/plain": [
              "178.1029968"
            ]
          },
          "metadata": {},
          "execution_count": 34
        }
      ],
      "source": [
        "# Obtain the minimum value of the Pandas Series\n",
        "min(BTC_price_series)"
      ]
    },
    {
      "cell_type": "markdown",
      "metadata": {
        "id": "LKDuJ94RvB85"
      },
      "source": [
        "# TASK #8. SORTING PANDAS SERIES"
      ]
    },
    {
      "cell_type": "code",
      "execution_count": 35,
      "metadata": {
        "id": "f-aRTmn9u7DA",
        "colab": {
          "base_uri": "https://localhost:8080/"
        },
        "outputId": "ee3fe9d0-d1fd-40ad-8ba0-232c048ae321"
      },
      "outputs": [
        {
          "output_type": "execute_result",
          "data": {
            "text/plain": [
              "0         457.334015\n",
              "1         424.440002\n",
              "2         394.795990\n",
              "3         408.903992\n",
              "4         398.821014\n",
              "            ...     \n",
              "2380    55950.746090\n",
              "2381    57750.199220\n",
              "2382    58917.691410\n",
              "2383    58918.832030\n",
              "2384    59095.808590\n",
              "Name: BTC-USD Price, Length: 2385, dtype: float64"
            ]
          },
          "metadata": {},
          "execution_count": 35
        }
      ],
      "source": [
        "# import CSV data as follows:\n",
        "BTC_price_series = pd.read_csv('crypto.csv', squeeze = True)\n",
        "BTC_price_series"
      ]
    },
    {
      "cell_type": "code",
      "execution_count": 36,
      "metadata": {
        "id": "DaglhPNevFYC",
        "colab": {
          "base_uri": "https://localhost:8080/"
        },
        "outputId": "6cfe67b9-9995-4477-8a90-100962fae9d2"
      },
      "outputs": [
        {
          "output_type": "execute_result",
          "data": {
            "text/plain": [
              "119       178.102997\n",
              "122       199.259995\n",
              "121       208.097000\n",
              "120       209.843994\n",
              "123       210.339004\n",
              "            ...     \n",
              "2382    58917.691410\n",
              "2383    58918.832030\n",
              "2384    59095.808590\n",
              "2366    59302.316410\n",
              "2365    61243.085940\n",
              "Name: BTC-USD Price, Length: 2385, dtype: float64"
            ]
          },
          "metadata": {},
          "execution_count": 36
        }
      ],
      "source": [
        "# You can sort the values in the dataframe as follows\n",
        "BTC_price_series.sort_values() "
      ]
    },
    {
      "cell_type": "code",
      "execution_count": 38,
      "metadata": {
        "id": "Pgt25eXmvFce"
      },
      "outputs": [],
      "source": [
        "# Set inplace = True to ensure that change has taken place in memory \n",
        "BTC_price_series.sort_values(inplace = True) "
      ]
    },
    {
      "cell_type": "code",
      "execution_count": 39,
      "metadata": {
        "id": "jEw2Gw_hu7Fo",
        "colab": {
          "base_uri": "https://localhost:8080/"
        },
        "outputId": "0ad386e9-29f7-4a86-c47d-2e5221948fec"
      },
      "outputs": [
        {
          "output_type": "execute_result",
          "data": {
            "text/plain": [
              "119       178.102997\n",
              "122       199.259995\n",
              "121       208.097000\n",
              "120       209.843994\n",
              "123       210.339004\n",
              "            ...     \n",
              "2382    58917.691410\n",
              "2383    58918.832030\n",
              "2384    59095.808590\n",
              "2366    59302.316410\n",
              "2365    61243.085940\n",
              "Name: BTC-USD Price, Length: 2385, dtype: float64"
            ]
          },
          "metadata": {},
          "execution_count": 39
        }
      ],
      "source": [
        "# Note that now the change (ordering) took place \n",
        "BTC_price_series"
      ]
    },
    {
      "cell_type": "code",
      "execution_count": 40,
      "metadata": {
        "id": "6wi0QnU5iGk8",
        "colab": {
          "base_uri": "https://localhost:8080/"
        },
        "outputId": "3da7e2d8-34e1-43a5-be22-b20db0eaf00b"
      },
      "outputs": [
        {
          "output_type": "execute_result",
          "data": {
            "text/plain": [
              "0         457.334015\n",
              "1         424.440002\n",
              "2         394.795990\n",
              "3         408.903992\n",
              "4         398.821014\n",
              "            ...     \n",
              "2380    55950.746090\n",
              "2381    57750.199220\n",
              "2382    58917.691410\n",
              "2383    58918.832030\n",
              "2384    59095.808590\n",
              "Name: BTC-USD Price, Length: 2385, dtype: float64"
            ]
          },
          "metadata": {},
          "execution_count": 40
        }
      ],
      "source": [
        "# Notice that the indexes are now changed \n",
        "# You can also sort by index (revert back to the original Pandas Series) as follows: \n",
        "BTC_price_series.sort_index(inplace = True)\n",
        "BTC_price_series"
      ]
    },
    {
      "cell_type": "markdown",
      "metadata": {
        "id": "1QT7bBFCkDhh"
      },
      "source": [
        "# TASK #9. PERFORM MATH OPERATIONS ON PANDAS SERIES"
      ]
    },
    {
      "cell_type": "code",
      "execution_count": 41,
      "metadata": {
        "id": "UXFGCV4SkI4O",
        "colab": {
          "base_uri": "https://localhost:8080/"
        },
        "outputId": "27aa9e71-0eb1-4179-c191-44be4118eb9a"
      },
      "outputs": [
        {
          "output_type": "execute_result",
          "data": {
            "text/plain": [
              "0         457.334015\n",
              "1         424.440002\n",
              "2         394.795990\n",
              "3         408.903992\n",
              "4         398.821014\n",
              "            ...     \n",
              "2380    55950.746090\n",
              "2381    57750.199220\n",
              "2382    58917.691410\n",
              "2383    58918.832030\n",
              "2384    59095.808590\n",
              "Name: BTC-USD Price, Length: 2385, dtype: float64"
            ]
          },
          "metadata": {},
          "execution_count": 41
        }
      ],
      "source": [
        "# Let's import CSV data as follows:\n",
        "BTC_price_series = pd.read_csv('crypto.csv', squeeze = True)\n",
        "BTC_price_series"
      ]
    },
    {
      "cell_type": "code",
      "execution_count": 42,
      "metadata": {
        "id": "Qpo7M9yYkJPQ",
        "colab": {
          "base_uri": "https://localhost:8080/"
        },
        "outputId": "5135bdb2-e98f-4810-fc61-aef160443ced"
      },
      "outputs": [
        {
          "output_type": "execute_result",
          "data": {
            "text/plain": [
              "15435379.738852698"
            ]
          },
          "metadata": {},
          "execution_count": 42
        }
      ],
      "source": [
        "# Apply Sum Method on Pandas Series\n",
        "BTC_price_series.sum()"
      ]
    },
    {
      "cell_type": "code",
      "execution_count": 43,
      "metadata": {
        "id": "FTSaQpjokJSM",
        "colab": {
          "base_uri": "https://localhost:8080/"
        },
        "outputId": "f8745224-38de-489e-f1bf-54d8a39c2a0d"
      },
      "outputs": [
        {
          "output_type": "execute_result",
          "data": {
            "text/plain": [
              "2385"
            ]
          },
          "metadata": {},
          "execution_count": 43
        }
      ],
      "source": [
        "# Apply count Method on Pandas Series\n",
        "BTC_price_series.count()"
      ]
    },
    {
      "cell_type": "code",
      "execution_count": 44,
      "metadata": {
        "id": "I8vVnB_5kj7C",
        "colab": {
          "base_uri": "https://localhost:8080/"
        },
        "outputId": "92e12adf-11d4-42fb-f024-21b79ee45515"
      },
      "outputs": [
        {
          "output_type": "execute_result",
          "data": {
            "text/plain": [
              "61243.08594"
            ]
          },
          "metadata": {},
          "execution_count": 44
        }
      ],
      "source": [
        "# Obtain the maximum value\n",
        "BTC_price_series.max()"
      ]
    },
    {
      "cell_type": "code",
      "execution_count": 45,
      "metadata": {
        "id": "u3-XBu-vko2y",
        "colab": {
          "base_uri": "https://localhost:8080/"
        },
        "outputId": "ecc05944-6f91-463a-9d6c-d35abc29a3b1"
      },
      "outputs": [
        {
          "output_type": "execute_result",
          "data": {
            "text/plain": [
              "178.1029968"
            ]
          },
          "metadata": {},
          "execution_count": 45
        }
      ],
      "source": [
        "# Obtain the minimum value\n",
        "BTC_price_series.min()"
      ]
    },
    {
      "cell_type": "code",
      "execution_count": 46,
      "metadata": {
        "id": "jfaK3BsckvAK",
        "colab": {
          "base_uri": "https://localhost:8080/"
        },
        "outputId": "6b53efed-0f9a-4241-f93e-07967a51976a"
      },
      "outputs": [
        {
          "output_type": "execute_result",
          "data": {
            "text/plain": [
              "count     2385.000000\n",
              "mean      6471.857333\n",
              "std       9289.022505\n",
              "min        178.102997\n",
              "25%        454.618988\n",
              "50%       4076.632568\n",
              "75%       8864.766602\n",
              "max      61243.085940\n",
              "Name: BTC-USD Price, dtype: float64"
            ]
          },
          "metadata": {},
          "execution_count": 46
        }
      ],
      "source": [
        "# Describe is used to obtain all statistical information in one place \n",
        "BTC_price_series.describe()\n"
      ]
    },
    {
      "cell_type": "markdown",
      "metadata": {
        "id": "Yi8uUb_eiqxo"
      },
      "source": [
        "# TASK #10. CHECK IF A GIVEN ELEMENT EXISTS IN A PANDAS SERIES"
      ]
    },
    {
      "cell_type": "code",
      "execution_count": 47,
      "metadata": {
        "id": "nEQ94a2RiuiR",
        "colab": {
          "base_uri": "https://localhost:8080/"
        },
        "outputId": "68ff09b1-6568-4027-a78a-331258af7634"
      },
      "outputs": [
        {
          "output_type": "execute_result",
          "data": {
            "text/plain": [
              "0         457.334015\n",
              "1         424.440002\n",
              "2         394.795990\n",
              "3         408.903992\n",
              "4         398.821014\n",
              "            ...     \n",
              "2380    55950.746090\n",
              "2381    57750.199220\n",
              "2382    58917.691410\n",
              "2383    58918.832030\n",
              "2384    59095.808590\n",
              "Name: BTC-USD Price, Length: 2385, dtype: float64"
            ]
          },
          "metadata": {},
          "execution_count": 47
        }
      ],
      "source": [
        "# import CSV data as follows:\n",
        "BTC_price_series = pd.read_csv('crypto.csv', squeeze = True)\n",
        "BTC_price_series"
      ]
    },
    {
      "cell_type": "code",
      "execution_count": 48,
      "metadata": {
        "id": "x0T4h0CWi-p7",
        "colab": {
          "base_uri": "https://localhost:8080/"
        },
        "outputId": "0ce3b272-753d-48f1-a5b8-d476814faf09"
      },
      "outputs": [
        {
          "output_type": "execute_result",
          "data": {
            "text/plain": [
              "False"
            ]
          },
          "metadata": {},
          "execution_count": 48
        }
      ],
      "source": [
        "# Check if a given number exists in a Pandas Series values\n",
        "# Returns a boolean \"True\" or \"False\"\n",
        "1295.500000 in BTC_price_series.values"
      ]
    },
    {
      "cell_type": "code",
      "execution_count": 49,
      "metadata": {
        "id": "xa7GXwbhi-sh",
        "colab": {
          "base_uri": "https://localhost:8080/"
        },
        "outputId": "8059fe70-dec2-4d73-ded2-ac56822dd007"
      },
      "outputs": [
        {
          "output_type": "execute_result",
          "data": {
            "text/plain": [
              "True"
            ]
          },
          "metadata": {},
          "execution_count": 49
        }
      ],
      "source": [
        "# Check if a given number exists in a Pandas Series index\n",
        "1295 in BTC_price_series.index"
      ]
    },
    {
      "cell_type": "code",
      "execution_count": 50,
      "metadata": {
        "id": "GyN5iG1ki-vC",
        "colab": {
          "base_uri": "https://localhost:8080/"
        },
        "outputId": "9630477f-6970-4c50-a71a-f72fd22d6ce5"
      },
      "outputs": [
        {
          "output_type": "execute_result",
          "data": {
            "text/plain": [
              "True"
            ]
          },
          "metadata": {},
          "execution_count": 50
        }
      ],
      "source": [
        "# Note that by default 'in' will search in Pandas index and not values\n",
        "1295 in BTC_price_series"
      ]
    },
    {
      "cell_type": "markdown",
      "metadata": {
        "id": "08v_y7IaJrvt"
      },
      "source": [
        "**MINI CHALLENGE #1:**\n",
        "- **Define a Pandas Series named \"my_series\" that contains your top 3 favourite stocks. Confirm the datatype of \"my_series\"**"
      ]
    },
    {
      "cell_type": "code",
      "execution_count": 51,
      "metadata": {
        "id": "syn8_3JiJrvt",
        "colab": {
          "base_uri": "https://localhost:8080/"
        },
        "outputId": "9b1b0f21-c61b-40e8-b6ef-f6ef96fe54d1"
      },
      "outputs": [
        {
          "output_type": "execute_result",
          "data": {
            "text/plain": [
              "0    Facebook\n",
              "1       Apple\n",
              "2      Nvidia\n",
              "dtype: object"
            ]
          },
          "metadata": {},
          "execution_count": 51
        }
      ],
      "source": [
        "# Let's define a Python list that contains 3 top stocks\n",
        "my_list = ['Facebook','Apple','Nvidia'] \n",
        "my_series = pd.Series(data = my_list) \n",
        "my_series"
      ]
    },
    {
      "cell_type": "code",
      "execution_count": 52,
      "metadata": {
        "id": "12MuwJ5eJrvu",
        "colab": {
          "base_uri": "https://localhost:8080/"
        },
        "outputId": "e71c5d82-3c09-4781-a4a3-fb40b7e608a3"
      },
      "outputs": [
        {
          "output_type": "execute_result",
          "data": {
            "text/plain": [
              "pandas.core.series.Series"
            ]
          },
          "metadata": {},
          "execution_count": 52
        }
      ],
      "source": [
        "type(my_series)"
      ]
    },
    {
      "cell_type": "markdown",
      "metadata": {
        "id": "1x6d0qzMKg-A"
      },
      "source": [
        "**MINI CHALLENGE #2:**\n",
        "- **Define a Pandas Series named \"my_series\" that contains your top 3 favourite stocks. Instead of using default numeric indexes (similar to mini challenge #1), use the following indexes \"stock #1\", \"stock #2\", and \"stock #3\"**"
      ]
    },
    {
      "cell_type": "code",
      "execution_count": 53,
      "metadata": {
        "id": "ddjSNsHBK-ll"
      },
      "outputs": [],
      "source": [
        "# define a Python list that contains 3 stocks as follows\n",
        "my_list = ['Facebook','Apple','Nvidia'] \n",
        "\n",
        "# define a python list as shown below. This python list will be used for the Series index:\n",
        "my_labels = ['stock #1', 'stock #2', 'stock #3']\n"
      ]
    },
    {
      "cell_type": "code",
      "execution_count": 54,
      "metadata": {
        "id": "4iNEgSEtK8kl",
        "colab": {
          "base_uri": "https://localhost:8080/"
        },
        "outputId": "bddd734c-4a60-4bed-d7a8-234035a95d16"
      },
      "outputs": [
        {
          "output_type": "execute_result",
          "data": {
            "text/plain": [
              "stock #1    Facebook\n",
              "stock #2       Apple\n",
              "stock #3      Nvidia\n",
              "dtype: object"
            ]
          },
          "metadata": {},
          "execution_count": 54
        }
      ],
      "source": [
        "# create a one dimensional Pandas \"series\" \n",
        "# use Pandas Constructor Method to create a series from a Python list\n",
        "# Note that this series is formed of data and associated labels \n",
        "my_series = pd.Series(data = my_list, index = my_labels)\n",
        "my_series"
      ]
    },
    {
      "cell_type": "markdown",
      "metadata": {
        "id": "r6btEnxmMy_G"
      },
      "source": [
        "**MINI CHALLENGE #3:**\n",
        "- **Create a Pandas Series from a dictionary with 3 of your favourite stocks and their corresponding prices** \n"
      ]
    },
    {
      "cell_type": "code",
      "execution_count": 55,
      "metadata": {
        "id": "PzkBjyLHM7Do",
        "colab": {
          "base_uri": "https://localhost:8080/"
        },
        "outputId": "c08501c6-ad55-4941-fb55-29f0f2ffa486"
      },
      "outputs": [
        {
          "output_type": "stream",
          "name": "stdout",
          "text": [
            "{'Facebook': 3000, 'Apple': 400, 'Nvidia': 2200}\n"
          ]
        }
      ],
      "source": [
        "stocks = {'Facebook': 3000, \n",
        "          'Apple'   : 400,\n",
        "          'Nvidia'  : 2200}\n",
        "print(stocks)"
      ]
    },
    {
      "cell_type": "code",
      "execution_count": 56,
      "metadata": {
        "id": "QeDCPO9hNAKj",
        "colab": {
          "base_uri": "https://localhost:8080/"
        },
        "outputId": "7a6fb1ef-c165-43eb-dc79-df5150c12b11"
      },
      "outputs": [
        {
          "output_type": "execute_result",
          "data": {
            "text/plain": [
              "Facebook    3000\n",
              "Apple        400\n",
              "Nvidia      2200\n",
              "dtype: int64"
            ]
          },
          "metadata": {},
          "execution_count": 56
        }
      ],
      "source": [
        "# define a Pandas Series Using the dictionary\n",
        "my_series = pd.Series(stocks)\n",
        "my_series"
      ]
    },
    {
      "cell_type": "markdown",
      "metadata": {
        "id": "lB8OYAVJXRYe"
      },
      "source": [
        "**MINI CHALLENGE #4:** \n",
        "- **What is the size of the Pandas Series? (External Research is Required)**"
      ]
    },
    {
      "cell_type": "code",
      "execution_count": 57,
      "metadata": {
        "id": "D5D0wFlmXRYf",
        "colab": {
          "base_uri": "https://localhost:8080/"
        },
        "outputId": "de7f578e-a1aa-46be-9c13-5914f29902ac"
      },
      "outputs": [
        {
          "output_type": "execute_result",
          "data": {
            "text/plain": [
              "5"
            ]
          },
          "metadata": {},
          "execution_count": 57
        }
      ],
      "source": [
        "# size is used to return the size of the series\n",
        "crypto_series.size"
      ]
    },
    {
      "cell_type": "markdown",
      "metadata": {
        "id": "5D7QSEf7Y8aa"
      },
      "source": [
        "**MINI CHALLENGE #5:** \n",
        "- **Show the last 2 rows in the Pandas Series (External Research is Required)** \n",
        "- **How many bytes does this Pandas Series consume in memory? (External Research is Required)**"
      ]
    },
    {
      "cell_type": "code",
      "execution_count": 58,
      "metadata": {
        "id": "FsSGV7I3Y_ja",
        "colab": {
          "base_uri": "https://localhost:8080/"
        },
        "outputId": "1f2e5abf-94ca-46d3-e7f3-a4447411ffb8"
      },
      "outputs": [
        {
          "output_type": "execute_result",
          "data": {
            "text/plain": [
              "3    20\n",
              "4    70\n",
              "dtype: int64"
            ]
          },
          "metadata": {},
          "execution_count": 58
        }
      ],
      "source": [
        "crypto_prices.tail(2)"
      ]
    },
    {
      "cell_type": "code",
      "execution_count": 59,
      "metadata": {
        "id": "s8g0WhX6Y8aa",
        "colab": {
          "base_uri": "https://localhost:8080/"
        },
        "outputId": "8987b362-ce09-4708-f9d2-3879287310ef"
      },
      "outputs": [
        {
          "output_type": "execute_result",
          "data": {
            "text/plain": [
              "168"
            ]
          },
          "metadata": {},
          "execution_count": 59
        }
      ],
      "source": [
        "crypto_prices.memory_usage()"
      ]
    },
    {
      "cell_type": "markdown",
      "metadata": {
        "id": "Thrv0augRv88"
      },
      "source": [
        "**MINI CHALLENGE #6:**\n",
        "- **Set Squeeze = False and rerun the cell, what do you notice? Use Type to compare both outputs**"
      ]
    },
    {
      "cell_type": "code",
      "execution_count": 75,
      "metadata": {
        "id": "Ebt-VMfccjR6"
      },
      "outputs": [],
      "source": [
        "BTC_price_series = pd.read_csv('crypto.csv', squeeze = False)\n",
        "# Note that when set Squeeze = False, the data is stored in a DataFrame by default. \n",
        "# DataFrame is simply used to store multi dimensional data as compares to Pandas Series that only holds 1-D dataset \n",
        "# Note that DataFrames has proper formatting when you attempt to view them as shown below \n",
        "# Note that Pandas Series has no formatting\n"
      ]
    },
    {
      "cell_type": "code",
      "execution_count": 76,
      "metadata": {
        "id": "WsTIJJlRSFkJ",
        "colab": {
          "base_uri": "https://localhost:8080/",
          "height": 423
        },
        "outputId": "42ca3c09-f97d-421f-8c93-308dea235bc5"
      },
      "outputs": [
        {
          "output_type": "execute_result",
          "data": {
            "text/html": [
              "\n",
              "  <div id=\"df-752de878-4d84-44d2-937e-22d1d9a0887c\">\n",
              "    <div class=\"colab-df-container\">\n",
              "      <div>\n",
              "<style scoped>\n",
              "    .dataframe tbody tr th:only-of-type {\n",
              "        vertical-align: middle;\n",
              "    }\n",
              "\n",
              "    .dataframe tbody tr th {\n",
              "        vertical-align: top;\n",
              "    }\n",
              "\n",
              "    .dataframe thead th {\n",
              "        text-align: right;\n",
              "    }\n",
              "</style>\n",
              "<table border=\"1\" class=\"dataframe\">\n",
              "  <thead>\n",
              "    <tr style=\"text-align: right;\">\n",
              "      <th></th>\n",
              "      <th>BTC-USD Price</th>\n",
              "    </tr>\n",
              "  </thead>\n",
              "  <tbody>\n",
              "    <tr>\n",
              "      <th>0</th>\n",
              "      <td>457.334015</td>\n",
              "    </tr>\n",
              "    <tr>\n",
              "      <th>1</th>\n",
              "      <td>424.440002</td>\n",
              "    </tr>\n",
              "    <tr>\n",
              "      <th>2</th>\n",
              "      <td>394.795990</td>\n",
              "    </tr>\n",
              "    <tr>\n",
              "      <th>3</th>\n",
              "      <td>408.903992</td>\n",
              "    </tr>\n",
              "    <tr>\n",
              "      <th>4</th>\n",
              "      <td>398.821014</td>\n",
              "    </tr>\n",
              "    <tr>\n",
              "      <th>...</th>\n",
              "      <td>...</td>\n",
              "    </tr>\n",
              "    <tr>\n",
              "      <th>2380</th>\n",
              "      <td>55950.746090</td>\n",
              "    </tr>\n",
              "    <tr>\n",
              "      <th>2381</th>\n",
              "      <td>57750.199220</td>\n",
              "    </tr>\n",
              "    <tr>\n",
              "      <th>2382</th>\n",
              "      <td>58917.691410</td>\n",
              "    </tr>\n",
              "    <tr>\n",
              "      <th>2383</th>\n",
              "      <td>58918.832030</td>\n",
              "    </tr>\n",
              "    <tr>\n",
              "      <th>2384</th>\n",
              "      <td>59095.808590</td>\n",
              "    </tr>\n",
              "  </tbody>\n",
              "</table>\n",
              "<p>2385 rows × 1 columns</p>\n",
              "</div>\n",
              "      <button class=\"colab-df-convert\" onclick=\"convertToInteractive('df-752de878-4d84-44d2-937e-22d1d9a0887c')\"\n",
              "              title=\"Convert this dataframe to an interactive table.\"\n",
              "              style=\"display:none;\">\n",
              "        \n",
              "  <svg xmlns=\"http://www.w3.org/2000/svg\" height=\"24px\"viewBox=\"0 0 24 24\"\n",
              "       width=\"24px\">\n",
              "    <path d=\"M0 0h24v24H0V0z\" fill=\"none\"/>\n",
              "    <path d=\"M18.56 5.44l.94 2.06.94-2.06 2.06-.94-2.06-.94-.94-2.06-.94 2.06-2.06.94zm-11 1L8.5 8.5l.94-2.06 2.06-.94-2.06-.94L8.5 2.5l-.94 2.06-2.06.94zm10 10l.94 2.06.94-2.06 2.06-.94-2.06-.94-.94-2.06-.94 2.06-2.06.94z\"/><path d=\"M17.41 7.96l-1.37-1.37c-.4-.4-.92-.59-1.43-.59-.52 0-1.04.2-1.43.59L10.3 9.45l-7.72 7.72c-.78.78-.78 2.05 0 2.83L4 21.41c.39.39.9.59 1.41.59.51 0 1.02-.2 1.41-.59l7.78-7.78 2.81-2.81c.8-.78.8-2.07 0-2.86zM5.41 20L4 18.59l7.72-7.72 1.47 1.35L5.41 20z\"/>\n",
              "  </svg>\n",
              "      </button>\n",
              "      \n",
              "  <style>\n",
              "    .colab-df-container {\n",
              "      display:flex;\n",
              "      flex-wrap:wrap;\n",
              "      gap: 12px;\n",
              "    }\n",
              "\n",
              "    .colab-df-convert {\n",
              "      background-color: #E8F0FE;\n",
              "      border: none;\n",
              "      border-radius: 50%;\n",
              "      cursor: pointer;\n",
              "      display: none;\n",
              "      fill: #1967D2;\n",
              "      height: 32px;\n",
              "      padding: 0 0 0 0;\n",
              "      width: 32px;\n",
              "    }\n",
              "\n",
              "    .colab-df-convert:hover {\n",
              "      background-color: #E2EBFA;\n",
              "      box-shadow: 0px 1px 2px rgba(60, 64, 67, 0.3), 0px 1px 3px 1px rgba(60, 64, 67, 0.15);\n",
              "      fill: #174EA6;\n",
              "    }\n",
              "\n",
              "    [theme=dark] .colab-df-convert {\n",
              "      background-color: #3B4455;\n",
              "      fill: #D2E3FC;\n",
              "    }\n",
              "\n",
              "    [theme=dark] .colab-df-convert:hover {\n",
              "      background-color: #434B5C;\n",
              "      box-shadow: 0px 1px 3px 1px rgba(0, 0, 0, 0.15);\n",
              "      filter: drop-shadow(0px 1px 2px rgba(0, 0, 0, 0.3));\n",
              "      fill: #FFFFFF;\n",
              "    }\n",
              "  </style>\n",
              "\n",
              "      <script>\n",
              "        const buttonEl =\n",
              "          document.querySelector('#df-752de878-4d84-44d2-937e-22d1d9a0887c button.colab-df-convert');\n",
              "        buttonEl.style.display =\n",
              "          google.colab.kernel.accessAllowed ? 'block' : 'none';\n",
              "\n",
              "        async function convertToInteractive(key) {\n",
              "          const element = document.querySelector('#df-752de878-4d84-44d2-937e-22d1d9a0887c');\n",
              "          const dataTable =\n",
              "            await google.colab.kernel.invokeFunction('convertToInteractive',\n",
              "                                                     [key], {});\n",
              "          if (!dataTable) return;\n",
              "\n",
              "          const docLinkHtml = 'Like what you see? Visit the ' +\n",
              "            '<a target=\"_blank\" href=https://colab.research.google.com/notebooks/data_table.ipynb>data table notebook</a>'\n",
              "            + ' to learn more about interactive tables.';\n",
              "          element.innerHTML = '';\n",
              "          dataTable['output_type'] = 'display_data';\n",
              "          await google.colab.output.renderOutput(dataTable, element);\n",
              "          const docLink = document.createElement('div');\n",
              "          docLink.innerHTML = docLinkHtml;\n",
              "          element.appendChild(docLink);\n",
              "        }\n",
              "      </script>\n",
              "    </div>\n",
              "  </div>\n",
              "  "
            ],
            "text/plain": [
              "      BTC-USD Price\n",
              "0        457.334015\n",
              "1        424.440002\n",
              "2        394.795990\n",
              "3        408.903992\n",
              "4        398.821014\n",
              "...             ...\n",
              "2380   55950.746090\n",
              "2381   57750.199220\n",
              "2382   58917.691410\n",
              "2383   58918.832030\n",
              "2384   59095.808590\n",
              "\n",
              "[2385 rows x 1 columns]"
            ]
          },
          "metadata": {},
          "execution_count": 76
        }
      ],
      "source": [
        "BTC_price_series"
      ]
    },
    {
      "cell_type": "code",
      "execution_count": 62,
      "metadata": {
        "id": "NJXOLvacSjh9",
        "colab": {
          "base_uri": "https://localhost:8080/"
        },
        "outputId": "fc0745b6-6ccf-4e49-a654-5a3efa907657"
      },
      "outputs": [
        {
          "output_type": "execute_result",
          "data": {
            "text/plain": [
              "pandas.core.frame.DataFrame"
            ]
          },
          "metadata": {},
          "execution_count": 62
        }
      ],
      "source": [
        "type(BTC_price_series)"
      ]
    },
    {
      "cell_type": "code",
      "execution_count": 63,
      "metadata": {
        "id": "VqShdXDGSjnD",
        "colab": {
          "base_uri": "https://localhost:8080/"
        },
        "outputId": "f419322b-f5eb-4920-d448-03441cc8cba6"
      },
      "outputs": [
        {
          "output_type": "execute_result",
          "data": {
            "text/plain": [
              "pandas.core.series.Series"
            ]
          },
          "metadata": {},
          "execution_count": 63
        }
      ],
      "source": [
        "BTC_price_series = pd.read_csv('crypto.csv', squeeze = True)\n",
        "type(BTC_price_series)"
      ]
    },
    {
      "cell_type": "markdown",
      "metadata": {
        "id": "c9aEM3KTT619"
      },
      "source": [
        "**MINI CHALLENGE #7:**\n",
        "- **Given the following Pandas Series, convert all positive values to negative using python built-in functions**\n",
        "- **Obtain only unique values (ie: Remove duplicates) using python built-in functions**\n",
        "- my_series = pd.Series(data = [-10, 100, -30, 50, 100])\n"
      ]
    },
    {
      "cell_type": "code",
      "execution_count": 64,
      "metadata": {
        "id": "VP5bBkaOUIpo",
        "colab": {
          "base_uri": "https://localhost:8080/"
        },
        "outputId": "e2dda0b6-6057-4776-87ab-6ec62da4aaec"
      },
      "outputs": [
        {
          "output_type": "execute_result",
          "data": {
            "text/plain": [
              "0    -10\n",
              "1    100\n",
              "2    -30\n",
              "3     50\n",
              "4    100\n",
              "dtype: int64"
            ]
          },
          "metadata": {},
          "execution_count": 64
        }
      ],
      "source": [
        "my_series = pd.Series(data = [-10, 100, -30, 50, 100])\n",
        "my_series"
      ]
    },
    {
      "cell_type": "code",
      "execution_count": 65,
      "metadata": {
        "id": "NFKY2ZNRaQ-s",
        "colab": {
          "base_uri": "https://localhost:8080/"
        },
        "outputId": "c9efbb44-5385-4344-9547-2e3474a1e110"
      },
      "outputs": [
        {
          "output_type": "execute_result",
          "data": {
            "text/plain": [
              "0     10\n",
              "1    100\n",
              "2     30\n",
              "3     50\n",
              "4    100\n",
              "dtype: int64"
            ]
          },
          "metadata": {},
          "execution_count": 65
        }
      ],
      "source": [
        "abs(my_series)"
      ]
    },
    {
      "cell_type": "code",
      "execution_count": 66,
      "metadata": {
        "id": "xqWCYc0n6V-d",
        "colab": {
          "base_uri": "https://localhost:8080/"
        },
        "outputId": "2fdfa762-e483-4690-8bda-fe2a65b6d87a"
      },
      "outputs": [
        {
          "output_type": "execute_result",
          "data": {
            "text/plain": [
              "{-30, -10, 50, 100}"
            ]
          },
          "metadata": {},
          "execution_count": 66
        }
      ],
      "source": [
        "set(my_series)"
      ]
    },
    {
      "cell_type": "markdown",
      "metadata": {
        "id": "5hAgN4ITfwPZ"
      },
      "source": [
        "**MINI CHALLENGE #8:**\n",
        "- **Sort the BTC_price_series values in a decending order instead. Make sure to update values in-memory.**"
      ]
    },
    {
      "cell_type": "code",
      "execution_count": 67,
      "metadata": {
        "id": "XbMv5fujfwPa",
        "colab": {
          "base_uri": "https://localhost:8080/"
        },
        "outputId": "61ab44fb-82fb-443d-e711-43ac77209163"
      },
      "outputs": [
        {
          "output_type": "execute_result",
          "data": {
            "text/plain": [
              "2365    61243.085940\n",
              "2366    59302.316410\n",
              "2384    59095.808590\n",
              "2383    58918.832030\n",
              "2382    58917.691410\n",
              "            ...     \n",
              "123       210.339004\n",
              "120       209.843994\n",
              "121       208.097000\n",
              "122       199.259995\n",
              "119       178.102997\n",
              "Name: BTC-USD Price, Length: 2385, dtype: float64"
            ]
          },
          "metadata": {},
          "execution_count": 67
        }
      ],
      "source": [
        "BTC_price_series.sort_values(ascending = False, inplace = True) \n",
        "BTC_price_series"
      ]
    },
    {
      "cell_type": "markdown",
      "metadata": {
        "id": "BJJRSL5jlDlV"
      },
      "source": [
        "**MINI CHALLENGE #9:**\n",
        "- **Obtain the average price using two different methods**"
      ]
    },
    {
      "cell_type": "code",
      "execution_count": 68,
      "metadata": {
        "id": "PPjFgt5FlDlW",
        "colab": {
          "base_uri": "https://localhost:8080/"
        },
        "outputId": "d81b356e-ba06-41fa-a358-66a6db1ae6f4"
      },
      "outputs": [
        {
          "output_type": "execute_result",
          "data": {
            "text/plain": [
              "6471.857332852285"
            ]
          },
          "metadata": {},
          "execution_count": 68
        }
      ],
      "source": [
        "# Obtain the average\n",
        "BTC_price_series.sum()/BTC_price_series.count()"
      ]
    },
    {
      "cell_type": "code",
      "execution_count": 69,
      "metadata": {
        "id": "P10NuBnslDlW",
        "colab": {
          "base_uri": "https://localhost:8080/"
        },
        "outputId": "010dde11-2730-4a5b-d376-39857717cd31"
      },
      "outputs": [
        {
          "output_type": "execute_result",
          "data": {
            "text/plain": [
              "6471.857332852288"
            ]
          },
          "metadata": {},
          "execution_count": 69
        }
      ],
      "source": [
        "# Obtain the average\n",
        "BTC_price_series.mean()"
      ]
    },
    {
      "cell_type": "markdown",
      "metadata": {
        "id": "VUaaCo_5a8h0"
      },
      "source": [
        "**MINI CHALLENGE #10:**\n",
        "- **Check if the stock price 399 exists in the BTC_price_series Pandas Series or not**\n",
        "- **Round stock prices to the nearest integer and check again**"
      ]
    },
    {
      "cell_type": "code",
      "execution_count": 70,
      "metadata": {
        "id": "650WOhWVjMGx",
        "colab": {
          "base_uri": "https://localhost:8080/"
        },
        "outputId": "5d086700-f095-4486-d14f-4eaac716092f"
      },
      "outputs": [
        {
          "output_type": "execute_result",
          "data": {
            "text/plain": [
              "False"
            ]
          },
          "metadata": {},
          "execution_count": 70
        }
      ],
      "source": [
        "399 in BTC_price_series.values"
      ]
    },
    {
      "cell_type": "code",
      "execution_count": 71,
      "metadata": {
        "id": "8T7B5PhsbVB0",
        "colab": {
          "base_uri": "https://localhost:8080/"
        },
        "outputId": "af72e9b4-a20e-45d0-c8e1-36060832f884"
      },
      "outputs": [
        {
          "output_type": "execute_result",
          "data": {
            "text/plain": [
              "2365    61243.0\n",
              "2366    59302.0\n",
              "2384    59096.0\n",
              "2383    58919.0\n",
              "2382    58918.0\n",
              "         ...   \n",
              "123       210.0\n",
              "120       210.0\n",
              "121       208.0\n",
              "122       199.0\n",
              "119       178.0\n",
              "Name: BTC-USD Price, Length: 2385, dtype: float64"
            ]
          },
          "metadata": {},
          "execution_count": 71
        }
      ],
      "source": [
        "prices_series = round(BTC_price_series)\n",
        "prices_series"
      ]
    },
    {
      "cell_type": "code",
      "execution_count": 72,
      "metadata": {
        "id": "Ads3YyW_bhVh",
        "colab": {
          "base_uri": "https://localhost:8080/"
        },
        "outputId": "f047be16-a432-44ba-cb95-5a96c8ec37bf"
      },
      "outputs": [
        {
          "output_type": "execute_result",
          "data": {
            "text/plain": [
              "True"
            ]
          },
          "metadata": {},
          "execution_count": 72
        }
      ],
      "source": [
        "399 in prices_series.values"
      ]
    }
  ],
  "metadata": {
    "colab": {
      "collapsed_sections": [],
      "name": "Learning Pandas for Data Analysis - Solution.ipynb",
      "provenance": []
    },
    "kernelspec": {
      "display_name": "Python 3",
      "language": "python",
      "name": "python3"
    },
    "language_info": {
      "codemirror_mode": {
        "name": "ipython",
        "version": 3
      },
      "file_extension": ".py",
      "mimetype": "text/x-python",
      "name": "python",
      "nbconvert_exporter": "python",
      "pygments_lexer": "ipython3",
      "version": "3.7.0"
    }
  },
  "nbformat": 4,
  "nbformat_minor": 0
}