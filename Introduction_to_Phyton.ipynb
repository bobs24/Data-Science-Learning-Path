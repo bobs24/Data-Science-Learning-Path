{
  "nbformat": 4,
  "nbformat_minor": 0,
  "metadata": {
    "kernelspec": {
      "name": "python3",
      "display_name": "Python 3.9.7 64-bit"
    },
    "language_info": {
      "codemirror_mode": {
        "name": "ipython",
        "version": 3
      },
      "file_extension": ".py",
      "mimetype": "text/x-python",
      "name": "python",
      "nbconvert_exporter": "python",
      "pygments_lexer": "ipython3",
      "version": "3.9.7"
    },
    "colab": {
      "name": "Introduction to Phyton.ipynb",
      "provenance": [],
      "collapsed_sections": [],
      "include_colab_link": true
    },
    "interpreter": {
      "hash": "06cb67651ce969e244f20f184e33f4ddb1106793adfe07cf7ddc131c95c4012f"
    }
  },
  "cells": [
    {
      "cell_type": "markdown",
      "metadata": {
        "id": "view-in-github",
        "colab_type": "text"
      },
      "source": [
        "<a href=\"https://colab.research.google.com/github/bobs24/Data-Science-Learning-Path/blob/Learning/Introduction_to_Phyton.ipynb\" target=\"_parent\"><img src=\"https://colab.research.google.com/assets/colab-badge.svg\" alt=\"Open In Colab\"/></a>"
      ]
    },
    {
      "cell_type": "markdown",
      "source": [
        "<h2>Soal 1: Hello World to Python</h2>\n",
        "    \n",
        "Print Say Hello World to Python"
      ],
      "metadata": {
        "id": "37V7ZOpEwt-6"
      }
    },
    {
      "cell_type": "code",
      "execution_count": null,
      "source": [
        "print (\"Hello World Phyton\")"
      ],
      "outputs": [
        {
          "output_type": "stream",
          "name": "stdout",
          "text": [
            "Hello World Phyton\n"
          ]
        }
      ],
      "metadata": {
        "id": "YCFjxzUwrIN-",
        "outputId": "b0277b76-1cc9-45d0-8cbf-2b4415fb5120"
      }
    },
    {
      "cell_type": "markdown",
      "source": [
        "Expected Output : \n",
        "\n",
        "Hello World Python"
      ],
      "metadata": {
        "id": "fftihhaUwt_B"
      }
    },
    {
      "cell_type": "markdown",
      "source": [
        "<h2>Soal 2: Aritmatika di Python </h2>\n",
        "    \n",
        "- Buat statement pertambahan antara 2 number di Python\n",
        "- Buat statement perkurangan antara 2 number di Python\n",
        "- Buat statement perkalian antara 2 number di Python\n",
        "- Buat statement pembagian antara 2 number di Python"
      ],
      "metadata": {
        "id": "1aEipc1Swt_C"
      }
    },
    {
      "cell_type": "code",
      "execution_count": null,
      "source": [
        "1+1"
      ],
      "outputs": [
        {
          "output_type": "execute_result",
          "data": {
            "text/plain": [
              "2"
            ]
          },
          "metadata": {},
          "execution_count": 1
        }
      ],
      "metadata": {
        "id": "LohsdOaNHaKn",
        "outputId": "3b8f17b7-56e9-4fa2-8951-ec18c1e25766"
      }
    },
    {
      "cell_type": "code",
      "execution_count": null,
      "source": [
        "8-5"
      ],
      "outputs": [
        {
          "output_type": "execute_result",
          "data": {
            "text/plain": [
              "3"
            ]
          },
          "metadata": {},
          "execution_count": 9
        }
      ],
      "metadata": {
        "id": "z4MlrnNmHaKn",
        "outputId": "fd805a7e-8858-4ff2-d2d3-076123c58045"
      }
    },
    {
      "cell_type": "code",
      "execution_count": null,
      "source": [
        "4*4"
      ],
      "outputs": [
        {
          "output_type": "execute_result",
          "data": {
            "text/plain": [
              "16"
            ]
          },
          "metadata": {},
          "execution_count": 11
        }
      ],
      "metadata": {
        "id": "30C6NJccHaKo",
        "outputId": "22210e54-1730-440d-af75-2bae7d556259"
      }
    },
    {
      "cell_type": "code",
      "execution_count": null,
      "source": [
        "9/5 "
      ],
      "outputs": [
        {
          "output_type": "execute_result",
          "data": {
            "text/plain": [
              "1.8"
            ]
          },
          "metadata": {},
          "execution_count": 19
        }
      ],
      "metadata": {
        "id": "VYY1hxzzHaKp",
        "outputId": "637f846c-de41-4a18-8924-0ff602ef299c"
      }
    },
    {
      "cell_type": "code",
      "execution_count": null,
      "source": [
        "9//5"
      ],
      "outputs": [
        {
          "output_type": "execute_result",
          "data": {
            "text/plain": [
              "1"
            ]
          },
          "metadata": {},
          "execution_count": 20
        }
      ],
      "metadata": {
        "id": "P6oTXtPqHaKp",
        "outputId": "2bccc41b-9662-4f0f-efac-da5a75e2c85e"
      }
    },
    {
      "cell_type": "markdown",
      "source": [
        "<h2>Quiz 3: Assign Variable dan Tipe Data Integer, Float </h2>\n",
        "\n",
        "- Buat suatu variabel a dan b, dimana a dan b adalah nilai bertipe data numeric\n",
        "- Berikan suatu nilai bertipe data integer, hasil pembagian dari a dengan b\n",
        "- Berikan suatu nilai bertipe data float, hasil pembagian dari a dengan b"
      ],
      "metadata": {
        "id": "DgUFNMtZwt_G"
      }
    },
    {
      "cell_type": "code",
      "execution_count": null,
      "source": [
        "a= 15\n",
        "b= 5\n",
        "a//b"
      ],
      "outputs": [
        {
          "output_type": "execute_result",
          "data": {
            "text/plain": [
              "3"
            ]
          },
          "metadata": {},
          "execution_count": 23
        }
      ],
      "metadata": {
        "id": "Qf8wzMg5wt_H",
        "outputId": "b9998bf6-f353-4dd2-9ee8-fcf98a766e5a"
      }
    },
    {
      "cell_type": "code",
      "execution_count": null,
      "source": [
        "a= 15\n",
        "b= 10\n",
        "a/b"
      ],
      "outputs": [
        {
          "output_type": "execute_result",
          "data": {
            "text/plain": [
              "1.5"
            ]
          },
          "metadata": {},
          "execution_count": 24
        }
      ],
      "metadata": {
        "id": "ZQRpXj4wHaKr",
        "outputId": "0227c591-4438-4771-9d3e-66491b9e71a0"
      }
    },
    {
      "cell_type": "markdown",
      "source": [
        "<h2>Soal 4: String Operation </h2>\n",
        "\n",
        "- masukan nama depan kamu kedalam suatu variable firstname\n",
        "- masukan nama belakang kamu kedalam suatu variable lastname\n",
        "- tampilkan suatu kalimat 'Hello sanbercode, saya firstname lastname! saya siap belajar python data science dasar.'"
      ],
      "metadata": {
        "id": "XmjLgW7Zwt_L"
      }
    },
    {
      "cell_type": "code",
      "execution_count": null,
      "source": [
        "firstname=\"Bob\" \n",
        "lastname=\" Sebastian\" \n",
        "print(\"Hello sanbercode, Saya \"+firstname+lastname+\"! Saya siap belajar phyton data science dasar.\")"
      ],
      "outputs": [
        {
          "output_type": "stream",
          "name": "stdout",
          "text": [
            "Hello sanbercode, Saya Bob Sebastian! Saya siap belajar phyton data science dasar.\n"
          ]
        }
      ],
      "metadata": {
        "id": "lSRwZ7xXwt_M",
        "outputId": "91b56fad-18a9-4390-97f3-e5256d69c764"
      }
    },
    {
      "cell_type": "markdown",
      "source": [
        "Expected Output :\n",
        "\n",
        "Hello sanbercode, saya Afrida Hafizhatul Ulum! saya siap belajar python data science dasar."
      ],
      "metadata": {
        "id": "0ROQJqBXwt_Q"
      }
    },
    {
      "cell_type": "markdown",
      "source": [
        "<h2>Soal 5: Tipe Data</h2>\n",
        "\n",
        "Lengkapi code di bawah ini untuk menghasilkan output yang sesuai"
      ],
      "metadata": {
        "id": "9DaWI8xdwt_Q"
      }
    },
    {
      "cell_type": "code",
      "execution_count": null,
      "source": [
        "usia = \"24\" \n",
        "kata = 'usiaku: '\n",
        "print(kata+usia+\" tahun\")"
      ],
      "outputs": [
        {
          "output_type": "stream",
          "name": "stdout",
          "text": [
            "usiaku: 24 tahun\n"
          ]
        }
      ],
      "metadata": {
        "id": "wcDbgbjTwt_R",
        "outputId": "6b9daa9b-770f-4479-fe90-faef2863e876"
      }
    },
    {
      "cell_type": "markdown",
      "source": [
        "Expected Output : (sesuai usia masing-masing)\n",
        "\n",
        "usiaku: 28 tahun"
      ],
      "metadata": {
        "id": "wdVRjDoLwt_V"
      }
    }
  ]
}